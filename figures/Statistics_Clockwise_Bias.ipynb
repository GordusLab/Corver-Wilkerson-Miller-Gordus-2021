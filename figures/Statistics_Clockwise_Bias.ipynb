{
 "cells": [
  {
   "cell_type": "code",
   "execution_count": 188,
   "metadata": {},
   "outputs": [],
   "source": [
    "import numpy as np, matplotlib.pyplot as plt, glob, os, pandas as pd, copy, \\\n",
    "    skimage.segmentation as segm, networkx as nx, simplification.cutil as simpl, \\\n",
    "    scipy.ndimage as ndimage, matplotlib.colors as mplcol, matplotlib.cm as cm, json, regex as re\n",
    "from sklearn.neighbors import NearestNeighbors\n",
    "from tqdm import tqdm_notebook as tqdm\n",
    "import shapely.ops, shapely.geometry as geom\n",
    "from skimage.measure import label\n",
    "from scipy.stats import mode\n",
    "import joblib as jl\n",
    "from plotnine import *\n",
    "from scipy.stats import wilcoxon\n",
    "from statsmodels.stats.multitest import multipletests, fdrcorrection\n",
    "\n",
    "import sys; sys.path.append('C:/Users/acorver/Documents/repositories/matplotlib-curly-brace/')\n",
    "from curlyBrace import curlyBrace\n",
    "\n",
    "import warnings\n",
    "warnings.filterwarnings('ignore')"
   ]
  },
  {
   "cell_type": "markdown",
   "metadata": {},
   "source": [
    "### Specify data files to display"
   ]
  },
  {
   "cell_type": "code",
   "execution_count": 8,
   "metadata": {},
   "outputs": [
    {
     "data": {
      "text/plain": [
       "40"
      ]
     },
     "execution_count": 8,
     "metadata": {},
     "output_type": "execute_result"
    }
   ],
   "source": [
    "fnames = [x for x in glob.glob('\\\\\\\\?\\\\Z:\\\\behavior\\\\*\\\\croprot\\\\*_dlc_abs_filt_interp_mvmt_noborder.npy') if 'RIG' not in x]\n",
    "len(fnames)"
   ]
  },
  {
   "cell_type": "code",
   "execution_count": 16,
   "metadata": {},
   "outputs": [
    {
     "data": {
      "text/plain": [
       "21"
      ]
     },
     "execution_count": 16,
     "metadata": {},
     "output_type": "execute_result"
    }
   ],
   "source": [
    "# Find recording information\n",
    "fnamesRecordingInfo = [os.path.join(os.path.dirname(os.path.dirname(x)), \n",
    "    'recording.json') for x in fnames]\n",
    "\n",
    "def loadJSON(x):\n",
    "    if os.path.exists(x):\n",
    "        with open(x, 'r') as f:\n",
    "            return json.load(f)\n",
    "    else:\n",
    "        return None\n",
    "    \n",
    "recordingInfo = [loadJSON(x) for x in fnamesRecordingInfo]\n",
    "\n",
    "# Exclude recordings that are incomplete or invalid\n",
    "useRecording = [('stages' in ri and (isinstance(ri['stages']['radii'], list) or ri['stages']['radii'] > 0) and \\\n",
    "    ri['web_complete'] and ri['tracking_successful']) for ri in recordingInfo]\n",
    "\n",
    "fnames = [x for x, b in zip(fnames, useRecording) if b]\n",
    "recordingInfo = [x for x, b in zip(recordingInfo, useRecording) if b]\n",
    "\n",
    "len(fnames)"
   ]
  },
  {
   "cell_type": "code",
   "execution_count": 22,
   "metadata": {},
   "outputs": [
    {
     "data": {
      "application/vnd.jupyter.widget-view+json": {
       "model_id": "",
       "version_major": 2,
       "version_minor": 0
      },
      "text/plain": [
       "HBox(children=(IntProgress(value=0, max=21), HTML(value='')))"
      ]
     },
     "metadata": {},
     "output_type": "display_data"
    },
    {
     "name": "stdout",
     "output_type": "stream",
     "text": [
      "\r"
     ]
    }
   ],
   "source": [
    "# Fill in missing stage information, if necessary\n",
    "for i in tqdm(range(len(recordingInfo)), leave=False):\n",
    "    s = recordingInfo[i]\n",
    "    # Find position/orientation\n",
    "    s['fname'] = glob.glob(os.path.abspath(os.path.join(os.path.dirname(fnames[i]), \n",
    "        '../croprot/*dlc_position_orientation.npy')))[0]\n",
    "\n",
    "    # Does this recording.json file specify stage ranges, or starting points?\n",
    "    for st in s['stages']:\n",
    "        if s['stages'][st] == []:\n",
    "            s['stages'][st] = []\n",
    "        elif not isinstance(s['stages'][st][0], list):\n",
    "            s['stages'][st] = [s['stages'][st], ]\n",
    "\n",
    "    s['stagesOrg'] = copy.deepcopy(s['stages'])\n",
    "\n",
    "    # Convert to indices used in analysis\n",
    "    arrIdx = np.load(s['fname'].replace('_position_orientation.npy',\n",
    "                                        '_abs_filt_interp_mvmt_noborder.idx.npy'))\n",
    "    for st in s['stages']:\n",
    "        for k in range(len(s['stages'][st])):\n",
    "            for m in range(2):\n",
    "                s['stages'][st][k][m] = np.argmin(np.abs(np.argwhere(arrIdx).T[0] - s['stages'][st][k][m]))"
   ]
  },
  {
   "cell_type": "code",
   "execution_count": 26,
   "metadata": {},
   "outputs": [],
   "source": [
    "fnamesLimbs = [fn for fn in fnames]"
   ]
  },
  {
   "cell_type": "code",
   "execution_count": 27,
   "metadata": {},
   "outputs": [
    {
     "data": {
      "application/vnd.jupyter.widget-view+json": {
       "model_id": "af7bbceeb9f84891a8a8d59c18697f41",
       "version_major": 2,
       "version_minor": 0
      },
      "text/plain": [
       "HBox(children=(IntProgress(value=0, max=21), HTML(value='')))"
      ]
     },
     "metadata": {},
     "output_type": "display_data"
    },
    {
     "name": "stdout",
     "output_type": "stream",
     "text": [
      "\n"
     ]
    }
   ],
   "source": [
    "arrLimbs = [np.load(fn) for fn in tqdm(fnamesLimbs)]"
   ]
  },
  {
   "cell_type": "markdown",
   "metadata": {},
   "source": [
    "### Compute directionality statistics"
   ]
  },
  {
   "cell_type": "code",
   "execution_count": 29,
   "metadata": {},
   "outputs": [],
   "source": [
    "hubs = [np.array(x['center']) for x in recordingInfo]"
   ]
  },
  {
   "cell_type": "code",
   "execution_count": 30,
   "metadata": {},
   "outputs": [],
   "source": [
    "# Orientation of spider: Is right side of spider closer to the hub?\n",
    "LEFTJOINTS = [10, 6, 9, 13]\n",
    "RIGHTJOINTS= [22, 18, 21, 25]"
   ]
  },
  {
   "cell_type": "code",
   "execution_count": 31,
   "metadata": {},
   "outputs": [],
   "source": [
    "rightLegTowardsHub = []\n",
    "distanceFromHub = []\n",
    "for i in range(len(arrLimbs)):\n",
    "    distL = np.min(np.linalg.norm(arrLimbs[i][:, LEFTJOINTS, :2] - \\\n",
    "        np.array(hubs[i])[np.newaxis, np.newaxis, :], axis=2), axis=1)\n",
    "    \n",
    "    distR = np.min(np.linalg.norm(arrLimbs[i][:, RIGHTJOINTS, :2] - \\\n",
    "        np.array(hubs[i])[np.newaxis, np.newaxis, :], axis=2), axis=1)\n",
    "    \n",
    "    dHub = np.linalg.norm(arrLimbs[i][:,0,:2] - hubs[i][np.newaxis, :], axis=1)\n",
    "    \n",
    "    rightLegTowardsHub.append(distR < distL)\n",
    "    distanceFromHub.append(dHub)"
   ]
  },
  {
   "cell_type": "code",
   "execution_count": 32,
   "metadata": {},
   "outputs": [],
   "source": [
    "def smoothMode(x, window=50):\n",
    "    return pd.DataFrame(x).rolling(window=window).apply(lambda y: mode(y).mode).values[:,0]"
   ]
  },
  {
   "cell_type": "code",
   "execution_count": 33,
   "metadata": {},
   "outputs": [],
   "source": [
    "rightLegTowardsHubSmooth = jl.Parallel(n_jobs=25)(jl.delayed(smoothMode)(x) for x in rightLegTowardsHub)"
   ]
  },
  {
   "cell_type": "code",
   "execution_count": null,
   "metadata": {},
   "outputs": [],
   "source": [
    "stagesAll = []\n",
    "STAGEORDER = ['protoweb', 'radii', 'spiral_aux', 'spiral_cap', 'stabilimentum']\n",
    "for i in range(len(rightLegTowardsHubSmooth)):\n",
    "    # Keep track of stages\n",
    "    stages = np.full(len(rightLegTowardsHubSmooth[i]), -1, dtype=int)\n",
    "    for st in recordingInfo[i]['stages']:\n",
    "        if len(recordingInfo[i]['stages'][st]) > 0:\n",
    "            if isinstance(recordingInfo[i]['stages'][st][0], list) or \\\n",
    "                    isinstance(recordingInfo[i]['stages'][st][0], tuple):\n",
    "                for ki, k in enumerate(recordingInfo[i]['stages'][st]):\n",
    "                    stages[k[0]:k[1]] = STAGEORDER.index(st) + 0 * ki\n",
    "            else:\n",
    "                if len(recordingInfo[i]['stages'][st]) == 2:\n",
    "                    stages[recordingInfo[i]['stages'][st][0]:recordingInfo[i]['stages'][st][1]] = STAGEORDER.index(st)\n",
    "    stagesAll.append(stages)"
   ]
  },
  {
   "cell_type": "code",
   "execution_count": 137,
   "metadata": {},
   "outputs": [],
   "source": [
    "# Subset to aux. (2) and cap. (3) spiral\n",
    "arrLimbsSpirals = [x[np.isin(st, [2, 3]), :, :2] for x, st in zip(arrLimbs, stagesAll)]\n",
    "rightLegTowardsHubSmoothSpirals = [x[np.isin(st, [2, 3])] for x, st in zip(rightLegTowardsHubSmooth, stagesAll)]"
   ]
  },
  {
   "cell_type": "code",
   "execution_count": 189,
   "metadata": {},
   "outputs": [],
   "source": [
    "# Determine spider ID labels\n",
    "def getSpiderID(x):\n",
    "    k = ['a', 'b', 'd', 'e', 'mvs~'].index(re.search('[0-9]+-[0-9]+-[0-9]+-([a-z~]*)', x).group(1))\n",
    "    return ['A', 'B', 'C', 'D', 'E'][k]"
   ]
  },
  {
   "cell_type": "code",
   "execution_count": 202,
   "metadata": {},
   "outputs": [],
   "source": [
    "data = []\n",
    "MINTRAVEL_1SEC = 5\n",
    "MAXTRAVEL_1SEC = 500\n",
    "\n",
    "for idx in range(len(arrLimbsSpirals)):\n",
    "    # Measure distance traveled in clockwise-vs-anticlockwise direction during spirals by recording\n",
    "    a = np.linalg.norm(np.diff(arrLimbsSpirals[idx][::50, 0, :], axis=0), axis=1)\n",
    "    a[(a < MINTRAVEL_1SEC)|(a > MAXTRAVEL_1SEC)] = 0\n",
    "    a = np.repeat(a, 50) * 0.02\n",
    "    b = np.full(arrLimbsSpirals[idx].shape[0], 0, dtype=np.float64)\n",
    "    b[:a.size] = a\n",
    "    distRightLegTowardHub = np.nansum(b[rightLegTowardsHubSmoothSpirals[idx] > 0.7])\n",
    "    distLeftLegTowardHub = np.nansum(b[rightLegTowardsHubSmoothSpirals[idx] <= 0.3])\n",
    "    \n",
    "    data.append((getSpiderID(fnames[idx]), int(distRightLegTowardHub + 0.5), \n",
    "                 int(distLeftLegTowardHub + 0.5)))\n",
    "    \n",
    "data = pd.DataFrame(data, columns=['spider', 'distRightLegTowardHub', \n",
    "                                   'distLeftLegTowardHub'])"
   ]
  },
  {
   "cell_type": "code",
   "execution_count": 203,
   "metadata": {},
   "outputs": [],
   "source": [
    "data.loc[:, 'biasRightLegTowardHub'] = (data.distRightLegTowardHub - data.distLeftLegTowardHub) / (\n",
    "    data.distRightLegTowardHub + data.distLeftLegTowardHub)"
   ]
  },
  {
   "cell_type": "code",
   "execution_count": 219,
   "metadata": {},
   "outputs": [
    {
     "data": {
      "text/plain": [
       "Text(0, 0.5, 'Right Leg Towards Hub (CCW) bias (0=no bias)')"
      ]
     },
     "execution_count": 219,
     "metadata": {},
     "output_type": "execute_result"
    },
    {
     "data": {
      "image/png": "[encoded data removed]",
      "text/plain": [
       "<Figure size 432x288 with 1 Axes>"
      ]
     },
     "metadata": {
      "needs_background": "light"
     },
     "output_type": "display_data"
    }
   ],
   "source": [
    "plt.scatter(y=data.biasRightLegTowardHub, x=data.spider)\n",
    "plt.xlabel('Spider ID')\n",
    "plt.ylabel('Right Leg Towards Hub (CCW) bias (0=no bias)')"
   ]
  },
  {
   "cell_type": "code",
   "execution_count": 209,
   "metadata": {},
   "outputs": [],
   "source": [
    "from scipy.stats import kruskal"
   ]
  },
  {
   "cell_type": "code",
   "execution_count": 217,
   "metadata": {},
   "outputs": [
    {
     "data": {
      "text/plain": [
       "0.6937002284731046"
      ]
     },
     "execution_count": 217,
     "metadata": {},
     "output_type": "execute_result"
    }
   ],
   "source": [
    "grps = [data.biasRightLegTowardHub[data.spider==x].values for x in data.spider.unique()]\n",
    "kruskal(*grps).pvalue"
   ]
  },
  {
   "cell_type": "code",
   "execution_count": 221,
   "metadata": {},
   "outputs": [],
   "source": [
    "# Source: http://www.jtrive.com/the-empirical-bootstrap-for-confidence-intervals-in-python.html\n",
    "def bootstrap(data, n=1000, func=np.nanmean):\n",
    "    \"\"\"\n",
    "    Generate `n` bootstrap samples, evaluating `func`\n",
    "    at each resampling. `bootstrap` returns a function,\n",
    "    which can be called to obtain confidence intervals\n",
    "    of interest.\n",
    "    \"\"\"\n",
    "    simulations = list()\n",
    "    sample_size = len(data)\n",
    "    xbar_init = np.mean(data)\n",
    "    for c in range(n):\n",
    "        itersample = np.random.choice(data, size=sample_size, replace=True)\n",
    "        simulations.append(func(itersample))\n",
    "    simulations.sort()\n",
    "    def ci(p):\n",
    "        \"\"\"\n",
    "        Return 2-sided symmetric confidence interval specified\n",
    "        by p.\n",
    "        \"\"\"\n",
    "        u_pval = (1+p)/2.\n",
    "        l_pval = (1-u_pval)\n",
    "        l_indx = int(np.floor(n*l_pval))\n",
    "        u_indx = int(np.floor(n*u_pval))\n",
    "        return(simulations[l_indx],simulations[u_indx])\n",
    "    return(ci)"
   ]
  },
  {
   "cell_type": "code",
   "execution_count": 220,
   "metadata": {},
   "outputs": [
    {
     "data": {
      "text/plain": [
       "(array([1., 2., 6., 5., 2., 2., 1., 1., 0., 1.]),\n",
       " array([-0.56660413, -0.41686131, -0.2671185 , -0.11737569,  0.03236713,\n",
       "         0.18210994,  0.33185275,  0.48159557,  0.63133838,  0.78108119,\n",
       "         0.93082401]),\n",
       " <a list of 10 Patch objects>)"
      ]
     },
     "execution_count": 220,
     "metadata": {},
     "output_type": "execute_result"
    },
    {
     "data": {
      "image/png": "[encoded data removed]",
      "text/plain": [
       "<Figure size 432x288 with 1 Axes>"
      ]
     },
     "metadata": {
      "needs_background": "light"
     },
     "output_type": "display_data"
    }
   ],
   "source": [
    "plt.hist(data.biasRightLegTowardHub)"
   ]
  },
  {
   "cell_type": "code",
   "execution_count": 233,
   "metadata": {},
   "outputs": [
    {
     "data": {
      "text/plain": [
       "(-0.17399529012083542, 0.11848941086435015)"
      ]
     },
     "execution_count": 233,
     "metadata": {},
     "output_type": "execute_result"
    }
   ],
   "source": [
    "bootstrap(data.biasRightLegTowardHub, 5000, np.nanmedian)(0.95)"
   ]
  },
  {
   "cell_type": "code",
   "execution_count": 234,
   "metadata": {},
   "outputs": [
    {
     "data": {
      "text/plain": [
       "(-0.1348871009228511, 0.14480644934951553)"
      ]
     },
     "execution_count": 234,
     "metadata": {},
     "output_type": "execute_result"
    }
   ],
   "source": [
    "bootstrap(data.biasRightLegTowardHub, 5000, np.nanmean)(0.95)"
   ]
  }
 ],
 "metadata": {
  "kernelspec": {
   "display_name": "Python 3",
   "language": "python",
   "name": "python3"
  },
  "language_info": {
   "codemirror_mode": {
    "name": "ipython",
    "version": 3
   },
   "file_extension": ".py",
   "mimetype": "text/x-python",
   "name": "python",
   "nbconvert_exporter": "python",
   "pygments_lexer": "ipython3",
   "version": "3.9.5"
  }
 },
 "nbformat": 4,
 "nbformat_minor": 2
}
