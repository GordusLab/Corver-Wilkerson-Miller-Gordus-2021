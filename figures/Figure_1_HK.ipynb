{
 "cells": [
  {
   "cell_type": "code",
   "execution_count": 9,
   "metadata": {},
   "outputs": [],
   "source": [
    "import numpy as np, matplotlib.pyplot as plt, glob, os, pandas as pd, copy, \\\n",
    "    skimage.segmentation as segm, networkx as nx, simplification.cutil as simpl, \\\n",
    "    scipy.ndimage as ndimage, matplotlib.colors as mplcol, matplotlib.cm as cm, json\n",
    "from sklearn.neighbors import NearestNeighbors\n",
    "from tqdm import tqdm_notebook as tqdm\n",
    "import shapely.ops, shapely.geometry as geom\n",
    "from skimage.measure import label\n",
    "import matplotlib.patches as mpatches\n",
    "import matplotlib.lines as mlines\n",
    "import matplotlib.pyplot as plt\n",
    "from scipy.stats import mannwhitneyu\n",
    "import imageio, regex as re, joblib as jl"
   ]
  },
  {
   "cell_type": "code",
   "execution_count": 10,
   "metadata": {},
   "outputs": [],
   "source": [
    "fnameP = 'rawmvmt_dlc_euclidean-midline_no-abspos_no-vel_00000000010001000000010001_60_16_meansub_scalestd_hipow_tsne_no-pca_perplexity_100_200000_2000_euclidean.filtered2.npy'\n",
    "fnameA = 'rawmvmt_dlc_euclidean_no-abspos_no-vel_00000010001000000010001000_60_16_meansub_scalestd_hipow_tsne_no-pca_perplexity_100_200000_2000_euclidean.filtered2.npy'\n",
    "fnames = [fnameP, fnameA]"
   ]
  },
  {
   "cell_type": "code",
   "execution_count": 11,
   "metadata": {},
   "outputs": [
    {
     "data": {
      "text/plain": [
       "(21, 21)"
      ]
     },
     "execution_count": 11,
     "metadata": {},
     "output_type": "execute_result"
    }
   ],
   "source": [
    "fnames = [[x for x in glob.glob('\\\\\\\\?\\\\Z:\\\\behavior\\\\*\\\\wavelet\\\\{}'.format(fn)) if 'RIG' not in x] for fn in fnames]\n",
    "len(fnames[0]), len(fnames[1])"
   ]
  },
  {
   "cell_type": "code",
   "execution_count": 12,
   "metadata": {},
   "outputs": [
    {
     "data": {
      "text/plain": [
       "(21, 21)"
      ]
     },
     "execution_count": 12,
     "metadata": {},
     "output_type": "execute_result"
    }
   ],
   "source": [
    "# Find recording information\n",
    "fnamesRecordingInfo = [[os.path.join(os.path.dirname(os.path.dirname(x)), \n",
    "    'recording.json') for x in fn] for fn in fnames]\n",
    "\n",
    "def loadJSON(x):\n",
    "    if os.path.exists(x):\n",
    "        with open(x, 'r') as f:\n",
    "            return json.load(f)\n",
    "    else:\n",
    "        return None\n",
    "    \n",
    "recordingInfo = [[loadJSON(x) for x in fn] for fn in fnamesRecordingInfo]\n",
    "\n",
    "# Exclude recordings that are incomplete or invalid\n",
    "useRecording = [[('stages' in ri and (isinstance(ri['stages']['radii'], list) or ri['stages']['radii'] > 0) and \\\n",
    "    ri['web_complete'] and ri['tracking_successful']) for ri in _recordingInfo] \\\n",
    "        for _recordingInfo in recordingInfo]\n",
    "\n",
    "fnames = [[x for x, b in zip(fnames[k], useRecording[k]) if b] for k in range(len(fnames))]\n",
    "recordingInfo = [[x for x, b in zip(recordingInfo[k], useRecording[k]) if b] for k in range(len(fnames))]\n",
    "\n",
    "len(fnames[0]), len(fnames[1])"
   ]
  },
  {
   "cell_type": "code",
   "execution_count": null,
   "metadata": {},
   "outputs": [],
   "source": [
    "# Fill in missing stage information, if necessary\n",
    "for z in tqdm(range(len(recordingInfo)), leave=False):\n",
    "    for i in tqdm(range(len(recordingInfo[z])), leave=False):\n",
    "        s = recordingInfo[z][i]\n",
    "        # Find position/orientation\n",
    "        s['fname'] = glob.glob(os.path.abspath(os.path.join(fnames[z][i], \n",
    "            '../../croprot/*dlc_position_orientation.npy')))[0]\n",
    "\n",
    "        # Does this recording.json file specify stage ranges, or starting points?\n",
    "        for st in s['stages']:\n",
    "            if s['stages'][st] == []:\n",
    "                s['stages'][st] = []\n",
    "            elif not isinstance(s['stages'][st][0], list):\n",
    "                s['stages'][st] = [s['stages'][st], ]\n",
    "        \n",
    "        s['stagesOrg'] = copy.deepcopy(s['stages'])"
   ]
  },
  {
   "cell_type": "code",
   "execution_count": null,
   "metadata": {},
   "outputs": [],
   "source": [
    "# Load AVI indices (computed in )\n",
    "idxsAVI = []\n",
    "for fnameIdx in tqdm(range(len(fnames[0]))):\n",
    "    # Load AVI mapping\n",
    "    suffix = 'avimapping2.npy'\n",
    "    fnameAVImapping = glob.glob(os.path.abspath(os.path.join(os.path.dirname(\n",
    "        fnames[0][fnameIdx]), '../raw/*_{}'.format(suffix))))[0]\n",
    "    aviMapping = np.load(fnameAVImapping)\n",
    "    # Already exists?\n",
    "    fnameAVIidx = fnameAVImapping.replace('.npy', '') + '_idx.npy'\n",
    "    lensAVI = []\n",
    "    aviIDs = np.sort([int(re.search('-([0-9]*)\\\\.avi', x).group(1)) for x in glob.glob(\n",
    "        fnameAVImapping.replace('_{}'.format(suffix), '*.avi'))])\n",
    "    i0 = aviIDs[aviMapping[:,1].min()]\n",
    "    i1 = aviIDs[aviMapping[:,1].max()]\n",
    "    print('Using movie chunks {} -> {}'.format(i0, i1))\n",
    "    for aviID in range(i0, i1+1):\n",
    "        fnameAVI = fnameAVImapping.replace('_{}'.format(suffix), '-{:04}.avi').format(aviID)\n",
    "        if not os.path.exists(fnameAVI):\n",
    "            fnameAVI = fnameAVImapping.replace('_{}'.format(suffix), '-{}.avi').format(aviID)\n",
    "        if not os.path.exists(fnameAVI):\n",
    "            lensAVI.append(lensAVI[-1])\n",
    "        else:\n",
    "            r = imageio.get_reader(fnameAVI)\n",
    "            lensAVI.append(len(r))\n",
    "            r.close()\n",
    "            del r\n",
    "    \n",
    "    # Map recording indices to AVI indices\n",
    "    _aviMappingIdxs = [list(range(i0, i1+1)).index(aviIDs[x]) for x in aviMapping[:,1]]\n",
    "    idxAVI = np.hstack([np.full(L, i in _aviMappingIdxs,dtype=np.bool) for L, i in zip(lensAVI, range(\n",
    "        i0, i1+1))])\n",
    "    # Store\n",
    "    idxsAVI.append(idxAVI)"
   ]
  },
  {
   "cell_type": "code",
   "execution_count": 64,
   "metadata": {},
   "outputs": [],
   "source": [
    "def getStartIdxAVI(recID):\n",
    "    fnameXY = glob.glob(os.path.abspath(os.path.join(os.path.dirname(fnames[0][recID]), \n",
    "        '../croprot/*_dlc_position_orientation.npy')))[0]\n",
    "\n",
    "    endFirstStage = int(np.sort(np.hstack([np.array(x).flatten() for x \\\n",
    "        in recordingInfo[0][recID]['stages'].values()]))[1])\n",
    "    \n",
    "    arrXY = np.load(fnameXY)[:endFirstStage, 0:2]\n",
    "\n",
    "    vels = pd.DataFrame(np.linalg.norm(arrXY - pd.DataFrame(\n",
    "        arrXY).shift(-50).values, axis=1)).fillna(method='ffill').fillna(method='bfill').values[:,0]\n",
    "    vels[(vels < 5)] = 0\n",
    "\n",
    "    _s0 = np.argwhere(np.cumsum(vels) >= 0.10 * np.max(np.cumsum(vels)))[0,0]\n",
    "    startIdxAVI = np.argwhere(idxAVI)[_s0, 0]\n",
    "    return startIdxAVI"
   ]
  },
  {
   "cell_type": "code",
   "execution_count": 7,
   "metadata": {},
   "outputs": [
    {
     "data": {
      "text/plain": [
       "['C:/Users/acorver/Desktop/paper-figures/recording-duration.pickle']"
      ]
     },
     "execution_count": 7,
     "metadata": {},
     "output_type": "execute_result"
    }
   ],
   "source": [
    "#jl.dump(idxsAVI, 'C:/Users/acorver/Desktop/paper-figures/recording-duration.pickle')"
   ]
  },
  {
   "cell_type": "code",
   "execution_count": null,
   "metadata": {},
   "outputs": [],
   "source": [
    "stageDistances = {}\n",
    "stageDurations = {}\n",
    "PIXEL_TO_CM = 10 / 1000\n",
    "MINTRAVEL_1SEC = 5\n",
    "MAXTRAVEL_1SEC = 500\n",
    "for stage in tqdm(recordingInfo[1][0]['stagesOrg'], leave=False):\n",
    "    for recid, (recInfo, idxAVI) in tqdm(enumerate(zip(recordingInfo[1], idxsAVI)), leave=False):\n",
    "        try:\n",
    "            xy = np.load(recInfo['fname'])[:,0:2]\n",
    "            idx = np.full(xy.shape[0], False, dtype=np.bool)\n",
    "            dur = 0\n",
    "            minTimestampAVI = getStartIdxAVI(recid)\n",
    "            \n",
    "            for t0, t1 in recInfo['stagesOrg'][stage]:\n",
    "                # Create boolean index\n",
    "                idx[t0:t1] = True\n",
    "                #print(recInfo['fname'], stage, recid)\n",
    "                _t0 = min(t0, np.sum(idxAVI)-1)\n",
    "                _t1 = min(t1, np.sum(idxAVI)-1)\n",
    "                _start = np.argwhere(idxAVI)[_t0, 0]\n",
    "                # Modify based on 10%-distance-traveled rule?\n",
    "                if _start < minTimestampAVI:\n",
    "                    print('Modifying start time from {} to {} for recording {} stage {}'.format(\n",
    "                        _start, minTimestampAVI, recid, stage))\n",
    "                    _start = minTimestampAVI\n",
    "                # Compute duration\n",
    "                dur += (np.argwhere(idxAVI)[_t1, 0] - _start)\n",
    "            a = np.linalg.norm(np.diff(xy[idx][::50,:], axis=0), axis=1)\n",
    "            a = np.nansum(a[(a > MINTRAVEL_1SEC)&(a < MAXTRAVEL_1SEC)])\n",
    "            if stage not in stageDistances:\n",
    "                stageDistances[stage] = []\n",
    "                stageDurations[stage] = []\n",
    "            stageDistances[stage].append(a * PIXEL_TO_CM)\n",
    "            stageDurations[stage].append(dur * 0.02)\n",
    "            #stageDurations[stage].append(np.sum(idx) * 0.02)\n",
    "        except Exception as e:\n",
    "            print(e)"
   ]
  },
  {
   "cell_type": "code",
   "execution_count": 76,
   "metadata": {},
   "outputs": [],
   "source": [
    "tblDurations = []\n",
    "for stage in stageDurations:\n",
    "    for recid, d in enumerate(stageDurations[stage]):\n",
    "        tblDurations.append((stage, d / 3600, recid))\n",
    "tblDurations = pd.DataFrame(tblDurations, columns=['stage', 'minutes', 'recid'])\n",
    "tblDurations.loc[:,'minutes_total'] = tblDurations.groupby('recid').transform('sum').minutes"
   ]
  },
  {
   "cell_type": "code",
   "execution_count": 77,
   "metadata": {},
   "outputs": [],
   "source": [
    "def _fn(x):\n",
    "    return tblDurations.loc[[i for i, v in zip(x.index, x.values) if v in [\n",
    "        'radii', 'spiral_cap', 'stabilimentum']], 'minutes'].sum()\n",
    "tblDurations.loc[:,'minutes_finalstructure'] = tblDurations.groupby('recid').transform(_fn).stage"
   ]
  },
  {
   "cell_type": "code",
   "execution_count": 78,
   "metadata": {},
   "outputs": [],
   "source": [
    "tblDistances = []\n",
    "for stage in stageDistances:\n",
    "    for recid, d in enumerate(stageDistances[stage]):\n",
    "        tblDistances.append((stage, d * 0.01, recid))\n",
    "tblDistances = pd.DataFrame(tblDistances, columns=['stage', 'meters', 'recid'])\n",
    "tblDistances.loc[:,'meters_total'] = tblDistances.groupby('recid').transform('sum').meters"
   ]
  },
  {
   "cell_type": "markdown",
   "metadata": {},
   "source": [
    "### Plot"
   ]
  },
  {
   "cell_type": "code",
   "execution_count": 79,
   "metadata": {},
   "outputs": [
    {
     "data": {
      "text/plain": [
       "[3]"
      ]
     },
     "execution_count": 79,
     "metadata": {},
     "output_type": "execute_result"
    }
   ],
   "source": [
    "# Exclude two-aux-spiral recordings from whiskers, because the radii (and other) \n",
    "# stages are extended for circadian reasons\n",
    "outliersIdxs = [i for i, x in enumerate(recordingInfo[0]) if len(x['stages']['spiral_aux']) > 0 and isinstance(\n",
    "    x['stages']['spiral_aux'][0], list) and len(x['stages']['spiral_aux']) >= 2]\n",
    "outliersIdxs"
   ]
  },
  {
   "cell_type": "code",
   "execution_count": 80,
   "metadata": {},
   "outputs": [
    {
     "data": {
      "image/png": "[encoded data removed]",
      "text/plain": [
       "<Figure size 288x288 with 2 Axes>"
      ]
     },
     "metadata": {
      "needs_background": "light"
     },
     "output_type": "display_data"
    }
   ],
   "source": [
    "fig, axs = plt.subplots(1, 2, figsize=(4,4))\n",
    "\n",
    "for istage, stage in enumerate(['total','finalstructure','protoweb','radii','spiral_aux','spiral_cap','stabilimentum']):\n",
    "    if istage <= 3:\n",
    "        ax = axs[0]\n",
    "    else:\n",
    "        ax = axs[1]\n",
    "    \n",
    "    if stage != 'total' and stage != 'finalstructure':\n",
    "        yvals = tblDurations.minutes[(tblDurations.stage == stage)&(\n",
    "            ~tblDurations.recid.isin(outliersIdxs))]\n",
    "    elif stage == 'total':\n",
    "        yvals = tblDurations.minutes_total[(tblDurations.stage=='protoweb')&(\n",
    "            ~tblDurations.recid.isin(outliersIdxs))]\n",
    "    elif stage == 'finalstructure':\n",
    "        yvals = tblDurations.minutes_finalstructure[(tblDurations.stage=='protoweb')&(\n",
    "            ~tblDurations.recid.isin(outliersIdxs))]\n",
    "    \n",
    "    xvals = np.ones(yvals.size) * istage + 0 + (np.random.random(size=yvals.size) - 0.5) * 0.1\n",
    "    ax.scatter(xvals, yvals, s=3, color='#222222', zorder=10)\n",
    "    \n",
    "    bp = ax.boxplot(yvals, patch_artist=True, bootstrap=10000, widths=[0.5,],\n",
    "        notch=True, vert=True, whis=(0,100), positions=(istage,))\n",
    "    for element in ['whiskers', 'fliers', 'means', 'medians', 'caps']:\n",
    "        plt.setp(bp[element], color='#222222')\n",
    "    plt.setp(bp['boxes'], facecolor='#eeeeee')\n",
    "    \n",
    "    # Plot outliers\n",
    "    if stage != 'total' and stage != 'finalstructure':\n",
    "        yvals = tblDurations.minutes[(tblDurations.stage == stage)&(\n",
    "            tblDurations.recid.isin(outliersIdxs))]\n",
    "    elif stage == 'total':\n",
    "        yvals = tblDurations.minutes_total[(tblDurations.stage=='protoweb')&(\n",
    "            tblDurations.recid.isin(outliersIdxs))]\n",
    "    elif stage == 'finalstructure':\n",
    "        yvals = tblDurations.minutes_finalstructure[(tblDurations.stage=='protoweb')&(\n",
    "            tblDurations.recid.isin(outliersIdxs))]\n",
    "    ax.scatter(xvals[:yvals.size], yvals, \n",
    "        s=20, zorder=10, facecolors='none', edgecolors='#222222')\n",
    "\n",
    "axs[0].set_xticks([0, 1, 2, 3])\n",
    "axs[0].set_xticklabels(['Total', 'Final Structure', 'Protoweb', 'Radii'], rotation=90)\n",
    "axs[0].set_ylabel('Duration (hours)')\n",
    "[axs[0].spines[x].set_visible(False) for x in ['top', 'right']]\n",
    "\n",
    "axs[1].set_xticks([4, 5, 6])\n",
    "axs[1].set_xticklabels(['Aux. Spiral', 'Cap. Spiral', 'Stabilimentum'], rotation=90)\n",
    "[axs[1].spines[x].set_visible(False) for x in ['top', 'right']]\n",
    "\n",
    "fig.tight_layout()\n",
    "fig.savefig('C:/Users/acorver/Desktop/paper-figures/Fig_recording_durations_v3_10perccorrection.pdf')"
   ]
  },
  {
   "cell_type": "code",
   "execution_count": 41,
   "metadata": {},
   "outputs": [
    {
     "data": {
      "image/png": "[encoded data removed]",
      "text/plain": [
       "<Figure size 216x288 with 1 Axes>"
      ]
     },
     "metadata": {
      "needs_background": "light"
     },
     "output_type": "display_data"
    }
   ],
   "source": [
    "fig, ax = plt.subplots(1, 1, figsize=(3,4))\n",
    "\n",
    "for istage, stage in enumerate(['total','finalstructure','protoweb','radii','spiral_aux','spiral_cap','stabilimentum']):\n",
    "    if stage != 'total' and stage != 'finalstructure':\n",
    "        yvals = tblDurations.minutes[(tblDurations.stage == stage)&(\n",
    "            ~tblDurations.recid.isin(outliersIdxs))]\n",
    "    elif stage == 'total':\n",
    "        yvals = tblDurations.minutes_total[(tblDurations.stage=='protoweb')&(\n",
    "            ~tblDurations.recid.isin(outliersIdxs))]\n",
    "    elif stage == 'finalstructure':\n",
    "        yvals = tblDurations.minutes_finalstructure[(tblDurations.stage=='protoweb')&(\n",
    "            ~tblDurations.recid.isin(outliersIdxs))]\n",
    "    \n",
    "    xvals = np.ones(yvals.size) * istage + 0 + (np.random.random(size=yvals.size) - 0.5) * 0.1\n",
    "    ax.scatter(xvals, yvals, s=3, color='#222222', zorder=10)\n",
    "    \n",
    "    bp = ax.boxplot(yvals, patch_artist=True, bootstrap=10000, widths=[0.5,],\n",
    "        notch=True, vert=True, whis=(0,100), positions=(istage,))\n",
    "    for element in ['whiskers', 'fliers', 'means', 'medians', 'caps']:\n",
    "        plt.setp(bp[element], color='#222222')\n",
    "    plt.setp(bp['boxes'], facecolor='#eeeeee')\n",
    "    \n",
    "    # Plot outliers\n",
    "    if stage != 'total' and stage != 'finalstructure':\n",
    "        yvals = tblDurations.minutes[(tblDurations.stage == stage)&(\n",
    "            tblDurations.recid.isin(outliersIdxs))]\n",
    "    elif stage == 'total':\n",
    "        yvals = tblDurations.minutes_total[(tblDurations.stage=='protoweb')&(\n",
    "            tblDurations.recid.isin(outliersIdxs))]\n",
    "    elif stage == 'finalstructure':\n",
    "        yvals = tblDurations.minutes_finalstructure[(tblDurations.stage=='protoweb')&(\n",
    "            tblDurations.recid.isin(outliersIdxs))]\n",
    "    ax.scatter(xvals[:yvals.size], yvals, \n",
    "        s=20, zorder=10, facecolors='none', edgecolors='#222222')\n",
    "    \n",
    "ax.set_xticks([0, 1, 2, 3, 4, 5, 6])\n",
    "ax.set_xticklabels(['Total', 'Final Structure', 'Protoweb', 'Radii', 'Aux. Spiral', \n",
    "                    'Cap. Spiral', 'Stabilimentum'], rotation=90)\n",
    "ax.set_ylabel('Duration (hours)')\n",
    "\n",
    "[ax.spines[x].set_visible(False) for x in ['top', 'right']]\n",
    "\n",
    "fig.tight_layout()\n",
    "fig.savefig('C:/Users/acorver/Desktop/paper-figures/Fig_recording_durations_v2.pdf')"
   ]
  },
  {
   "cell_type": "code",
   "execution_count": null,
   "metadata": {},
   "outputs": [],
   "source": [
    "fig, ax = plt.subplots(1, 1, figsize=(3,4))\n",
    "\n",
    "for istage, stage in enumerate(['total','finalstructure','protoweb','radii','spiral_aux','spiral_cap','stabilimentum']):\n",
    "    if stage != 'total' and stage != 'finalstructure':\n",
    "        yvals = tblDurations.minutes[tblDurations.stage == stage]\n",
    "    elif stage == 'total':\n",
    "        yvals = tblDurations.minutes_total[tblDurations.stage=='protoweb']\n",
    "    elif stage == 'finalstructure':\n",
    "        yvals = tblDurations.minutes_finalstructure[tblDurations.stage=='protoweb']\n",
    "    \n",
    "    xvals = np.ones(yvals.size) * istage + 0 + (np.random.random(size=yvals.size) - 0.5) * 0.1\n",
    "    ax.scatter(xvals, yvals, s=3, color='#222222', zorder=10)\n",
    "    \n",
    "    bp = ax.boxplot(yvals, patch_artist=True, bootstrap=10000, widths=[0.5,],\n",
    "        notch=True, vert=True, whis=(0,100), positions=(istage,))\n",
    "    for element in ['whiskers', 'fliers', 'means', 'medians', 'caps']:\n",
    "        plt.setp(bp[element], color='#222222')\n",
    "    plt.setp(bp['boxes'], facecolor='#eeeeee')\n",
    "    \n",
    "ax.set_xticks([0, 1, 2, 3, 4, 5, 6])\n",
    "ax.set_xticklabels(['Total', 'Final Structure', 'Protoweb', 'Radii', 'Aux. Spiral', \n",
    "                    'Cap. Spiral', 'Stabilimentum'], rotation=90)\n",
    "ax.set_ylabel('Duration (hours)')\n",
    "\n",
    "[ax.spines[x].set_visible(False) for x in ['top', 'right']]\n",
    "\n",
    "fig.tight_layout()\n",
    "fig.savefig('C:/Users/acorver/Desktop/paper-figures/Fig_recording_durations_v2.pdf')"
   ]
  },
  {
   "cell_type": "code",
   "execution_count": 74,
   "metadata": {},
   "outputs": [
    {
     "name": "stderr",
     "output_type": "stream",
     "text": [
      "C:\\Users\\acorver\\.conda\\envs\\spider\\lib\\site-packages\\ipykernel_launcher.py:24: UserWarning: Matplotlib is currently using module://ipykernel.pylab.backend_inline, which is a non-GUI backend, so cannot show the figure.\n"
     ]
    },
    {
     "data": {
      "image/png": "[encoded data removed]",
      "text/plain": [
       "<Figure size 216x288 with 1 Axes>"
      ]
     },
     "metadata": {
      "needs_background": "light"
     },
     "output_type": "display_data"
    }
   ],
   "source": [
    "fig, ax = plt.subplots(1, 1, figsize=(3,4))\n",
    "\n",
    "for istage, stage in enumerate(['total','protoweb','radii','spiral_aux','spiral_cap','stabilimentum']):\n",
    "    if stage != 'total':\n",
    "        yvals = tblDistances.meters[tblDistances.stage == stage]\n",
    "    else:\n",
    "        yvals = tblDistances.meters_total[tblDistances.stage=='protoweb']\n",
    "    \n",
    "    xvals = np.ones(yvals.size) * istage + 0 + (np.random.random(size=yvals.size) - 0.5) * 0.1\n",
    "    ax.scatter(xvals, yvals, s=3, color='#222222', zorder=10)\n",
    "    \n",
    "    bp = ax.boxplot(yvals, patch_artist=True, bootstrap=10000, widths=[0.5,],\n",
    "        notch=True, vert=True, whis=(0,100), positions=(istage,))\n",
    "    for element in ['whiskers', 'fliers', 'means', 'medians', 'caps']:\n",
    "        plt.setp(bp[element], color='#222222')\n",
    "    plt.setp(bp['boxes'], facecolor='#eeeeee')\n",
    "    \n",
    "ax.set_xticks([0, 1, 2, 3, 4, 5])\n",
    "ax.set_xticklabels(['Total', 'Protoweb', 'Radii', 'Aux. Spiral', 'Cap. Spiral', 'Stabilimentum'], rotation=90)\n",
    "ax.set_ylabel('Distance (meters)')\n",
    "\n",
    "[ax.spines[x].set_visible(False) for x in ['top', 'right']]\n",
    "\n",
    "fig.show()\n",
    "fig.tight_layout()\n",
    "fig.savefig('C:/Users/acorver/Desktop/paper-figures/Fig_recording_distances.pdf')"
   ]
  }
 ],
 "metadata": {
  "kernelspec": {
   "display_name": "Python 3",
   "language": "python",
   "name": "python3"
  },
  "language_info": {
   "codemirror_mode": {
    "name": "ipython",
    "version": 3
   },
   "file_extension": ".py",
   "mimetype": "text/x-python",
   "name": "python",
   "nbconvert_exporter": "python",
   "pygments_lexer": "ipython3",
   "version": "3.9.5"
  }
 },
 "nbformat": 4,
 "nbformat_minor": 2
}
