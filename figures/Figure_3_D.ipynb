{
 "cells": [
  {
   "cell_type": "code",
   "execution_count": 2,
   "metadata": {},
   "outputs": [],
   "source": [
    "import numpy as np, matplotlib.pyplot as plt, glob, os, regex as re, matplotlib as mpl, \\\n",
    "    scipy.stats as stats, seaborn as sns, scipy as sp, matplotlib.gridspec as gridspec, \\\n",
    "    matplotlib.colors as mplcol, json"
   ]
  },
  {
   "cell_type": "code",
   "execution_count": 3,
   "metadata": {},
   "outputs": [],
   "source": [
    "MODE = 'rawmvmt' # 'wavelet'"
   ]
  },
  {
   "cell_type": "markdown",
   "metadata": {},
   "source": [
    "### Specify data files to display"
   ]
  },
  {
   "cell_type": "code",
   "execution_count": 4,
   "metadata": {},
   "outputs": [],
   "source": [
    "if MODE == 'wavelet':\n",
    "    fnameBases = ['\\\\\\\\?\\\\Z:\\\\behavior\\\\*\\\\wavelet\\\\wavelet_dlc_euclidean-midline_no-abspos_no-vel_00000000010001000000010001_1_20_hipow_tsne_no-pca_perplexity_100_200000_2000_euclidean.npy',\n",
    "                  '\\\\\\\\?\\\\Z:\\\\behavior\\\\*\\\\wavelet\\\\wavelet_dlc_euclidean_no-abspos_no-vel_00000010001000000010001000_1_20_hipow_tsne_no-pca_perplexity_100_200000_2000_euclidean.npy'\n",
    "    ]\n",
    "else:\n",
    "    fnameBases = ['\\\\\\\\?\\\\Z:\\\\behavior\\\\*\\\\wavelet\\\\rawmvmt_dlc_euclidean-midline_no-abspos_no-vel_00000000010001000000010001_60_16_meansub_scalestd_hipow_tsne_no-pca_perplexity_100_200000_2000_euclidean.npy',\n",
    "                  '\\\\\\\\?\\\\Z:\\\\behavior\\\\*\\\\wavelet\\\\rawmvmt_dlc_euclidean_no-abspos_no-vel_00000010001000000010001000_60_16_meansub_scalestd_hipow_tsne_no-pca_perplexity_100_200000_2000_euclidean.npy'\n",
    "    ]"
   ]
  },
  {
   "cell_type": "code",
   "execution_count": 5,
   "metadata": {},
   "outputs": [
    {
     "data": {
      "text/plain": [
       "(21,\n",
       " ['\\\\\\\\?\\\\Z:\\\\behavior\\\\4-10-19-b\\\\wavelet\\\\rawmvmt_dlc_euclidean-midline_no-abspos_no-vel_00000000010001000000010001_60_16_meansub_scalestd_hipow_tsne_no-pca_perplexity_100_200000_2000_euclidean.npy',\n",
       "  '\\\\\\\\?\\\\Z:\\\\behavior\\\\4-11-19-a\\\\wavelet\\\\rawmvmt_dlc_euclidean-midline_no-abspos_no-vel_00000000010001000000010001_60_16_meansub_scalestd_hipow_tsne_no-pca_perplexity_100_200000_2000_euclidean.npy'])"
      ]
     },
     "execution_count": 5,
     "metadata": {},
     "output_type": "execute_result"
    }
   ],
   "source": [
    "fnames = [[(x if i == 0 else None) for x in glob.glob(fnameBase) if 'RIG' not in x] \\\n",
    "          for i, fnameBase in enumerate(fnameBases)]\n",
    "\n",
    "fnames[1] = [x.replace(os.path.basename(fnameBases[0]), os.path.basename(fnameBases[1])) for x in fnames[0]]\n",
    "\n",
    "len(fnames[0]), fnames[0][0:2]"
   ]
  },
  {
   "cell_type": "code",
   "execution_count": 6,
   "metadata": {},
   "outputs": [],
   "source": [
    "# Load data\n",
    "Hs = [[], []]\n",
    "for k in range(2):\n",
    "    arrs = []\n",
    "    for fname in fnames[k]:\n",
    "        arr = np.load(fname)\n",
    "        arr = arr[~np.any(np.isnan(arr), axis=1)]\n",
    "        arrs.append(arr)\n",
    "\n",
    "    # Determine data range\n",
    "    _max, _min = np.max(np.vstack(arrs), axis=0), np.min(np.vstack(arrs), axis=0)\n",
    "\n",
    "    # Compute histograms\n",
    "    for arr in arrs:\n",
    "        H, _, _ = np.histogram2d(\n",
    "            arr[:,0], arr[:,1],\n",
    "            bins=(200, 200), \n",
    "            range=((_min[0], _max[0]), (_min[1], _max[1])))\n",
    "\n",
    "        # Clip\n",
    "        H = np.clip(H, 0, np.percentile(H, 99))\n",
    "        H = H / np.sum(H)\n",
    "\n",
    "        Hs[k].append(H)"
   ]
  },
  {
   "cell_type": "code",
   "execution_count": 7,
   "metadata": {},
   "outputs": [],
   "source": [
    "fnamesJSON = [os.path.abspath(os.path.join(os.path.dirname(x), '../recording.json')) for x in fnames[0]]\n",
    "recordingInfo = []\n",
    "for fnJSON in fnamesJSON:\n",
    "    with open(fnJSON, 'r') as f:\n",
    "        recordingInfo.append(json.load(f))"
   ]
  },
  {
   "cell_type": "code",
   "execution_count": 8,
   "metadata": {},
   "outputs": [],
   "source": [
    "hasStabilimentum = [(len(x['stages']['stabilimentum']) > 0) for x in recordingInfo]"
   ]
  },
  {
   "cell_type": "code",
   "execution_count": 9,
   "metadata": {},
   "outputs": [],
   "source": [
    "isCanonical = [np.all([len(ri['stages'][st]) <= 1 for st in ri['stages'] if len(ri['stages'][st]) > 0 \\\n",
    "    and isinstance(ri['stages'][st][0], (list, tuple))]) for ri in recordingInfo]"
   ]
  },
  {
   "cell_type": "code",
   "execution_count": 10,
   "metadata": {},
   "outputs": [],
   "source": [
    "def jsd(p, q, base=np.e):\n",
    "    \"\"\"Implementation of pairwise `jsd` based on: \n",
    "       https://en.wikipedia.org/wiki/Jensen%E2%80%93Shannon_divergence\n",
    "    \"\"\"\n",
    "    # convert to np.array\n",
    "    p, q = np.asarray(p), np.asarray(q)\n",
    "    # normalize p, q to probabilities\n",
    "    p, q = p/p.sum(), q/q.sum()\n",
    "    m = 0.5 * (p + q)\n",
    "    return stats.entropy(p.flatten(), m.flatten(), base=base)/2. + \\\n",
    "        sp.stats.entropy(q.flatten(), m.flatten(), base=base)/2."
   ]
  },
  {
   "cell_type": "code",
   "execution_count": 11,
   "metadata": {},
   "outputs": [],
   "source": [
    "# Determine spider ID labels\n",
    "def getSpiderID(x):\n",
    "    k = ['a', 'b', 'd', 'e', 'mvs~'].index(re.search('[0-9]+-[0-9]+-[0-9]+-([a-z~]*)', x).group(1))\n",
    "    return ['A', 'B', 'C', 'D', 'E'][k]"
   ]
  },
  {
   "cell_type": "code",
   "execution_count": 12,
   "metadata": {},
   "outputs": [],
   "source": [
    "# Wong colorblind-safe palette\n",
    "# Source: https://www.nature.com/articles/nmeth.1618\n",
    "# Source: https://davidmathlogic.com/colorblind/#%23648FFF-%23785EF0-%23DC267F-%23FE6100-%23FFB000\n",
    "COLORS = [\n",
    "    (0, 0, 0),\n",
    "    (230, 159, 0),\n",
    "    (0, 158, 115),\n",
    "    (204, 121, 167),\n",
    "    (86, 180, 233)\n",
    "]\n",
    "COLORS = [mplcol.rgb2hex(np.array(x) / 255.0) for x in COLORS]"
   ]
  },
  {
   "cell_type": "markdown",
   "metadata": {},
   "source": [
    "### Plot dendrogram"
   ]
  },
  {
   "cell_type": "code",
   "execution_count": 13,
   "metadata": {},
   "outputs": [],
   "source": [
    "from shapely.geometry import Point, LineString\n",
    "from matplotlib.path import Path\n",
    "import shapely.affinity"
   ]
  },
  {
   "cell_type": "code",
   "execution_count": 14,
   "metadata": {},
   "outputs": [],
   "source": [
    "xy = np.zeros((6, 2))\n",
    "xy[:,0] = np.linspace(0, 1, xy.shape[0])\n",
    "xy[:,1] = ((np.arange(0, xy.shape[0])%2)-0.5) * 0.3\n",
    "shape = shapely.affinity.rotate(LineString(xy).buffer(0.02), 45)\n",
    "path = np.array(shape.exterior.xy).T - np.array(shape.centroid.xy).T\n",
    "stabilimentumMarker = Path(path)"
   ]
  },
  {
   "cell_type": "code",
   "execution_count": 15,
   "metadata": {},
   "outputs": [],
   "source": [
    "# Get other recordings by this individual\n",
    "def getRecordingOrder(fn):\n",
    "    datesSameSpider = [(a, '{:02}-{:02}-{:02}'.format(int(z), int(x), int(y))) for a, (x, y, z) in [\n",
    "        (x==fn, re.search('([0-9]{1,2})-([0-9]{1,2})-([0-9]{2})', x).groups()) for x \\\n",
    "        in fnames[0] if getSpiderID(fn)==getSpiderID(x)]]\n",
    "    if len(datesSameSpider) == 1:\n",
    "        return -1\n",
    "    else:\n",
    "        return [i for i, x in enumerate(sorted(datesSameSpider, key=lambda x: x[1])) if x[0]][0]"
   ]
  },
  {
   "cell_type": "code",
   "execution_count": 16,
   "metadata": {
    "scrolled": false
   },
   "outputs": [
    {
     "data": {
      "image/png": "[encoded data removed]",
      "text/plain": [
       "<Figure size 432x432 with 10 Axes>"
      ]
     },
     "metadata": {
      "needs_background": "light"
     },
     "output_type": "display_data"
    },
    {
     "data": {
      "image/png": "[encoded data removed]",
      "text/plain": [
       "<Figure size 432x432 with 10 Axes>"
      ]
     },
     "metadata": {
      "needs_background": "light"
     },
     "output_type": "display_data"
    }
   ],
   "source": [
    "for k in range(2):\n",
    "    # Compute pairwise distances\n",
    "    distMtx = np.zeros((len(Hs[0]), len(Hs[0])), dtype=np.float64)\n",
    "    for i1 in range(distMtx.shape[0]):\n",
    "        for i2 in range(distMtx.shape[1]):\n",
    "            distMtx[i1, i2]  = jsd(Hs[0][i1], Hs[0][i2]) * k\n",
    "            distMtx[i1, i2] += jsd(Hs[1][i1], Hs[1][i2]) * (1-k)\n",
    "    \n",
    "    fig = plt.figure(figsize=(6, 6))\n",
    "    spec = gridspec.GridSpec(ncols=7, nrows=7, \n",
    "        width_ratios =[1, 0.5, 0.5, 0.5, 7, 0.3, 0.3], \n",
    "        height_ratios=[1, 0.5, 0.5, 0.5, 7, 0.3, 0.3], wspace=0, hspace=0)\n",
    "\n",
    "    # Plot dendrogram (left, empty)\n",
    "    ax = fig.add_subplot(spec[4, 0])\n",
    "    ax.set_axis_off()\n",
    "\n",
    "    # Plot dendrogram\n",
    "    ax = fig.add_subplot(spec[0, 4])\n",
    "    link = sp.cluster.hierarchy.linkage(np.hstack((distMtx, distMtx.T)), \n",
    "        method='ward', metric='euclidean')\n",
    "    dendr = sp.cluster.hierarchy.dendrogram(link, \n",
    "        ax=ax, link_color_func=lambda x:'black')\n",
    "    ax.set_axis_off()\n",
    "\n",
    "    # Plot heatmap\n",
    "    order = sp.cluster.hierarchy.leaves_list(link)\n",
    "    ax = fig.add_subplot(spec[4, 4], clip_on=False)\n",
    "    img = ax.imshow(distMtx[:,order][order,:], cmap='viridis')\n",
    "    ax.set_axis_off()\n",
    "    \n",
    "    # Get IDs\n",
    "    spiderIDs = np.vectorize(getSpiderID)(np.array(fnames[0])[order])\n",
    "    recordingOrders = np.vectorize(getRecordingOrder)(np.array(fnames[0])[order])\n",
    "    \n",
    "    # Plot spider labels (top)\n",
    "    ax = fig.add_subplot(spec[3, 4], clip_on=False)\n",
    "    \n",
    "    for i, (spiderID, recordingOrder) in enumerate(zip(spiderIDs, recordingOrders)):\n",
    "        ax.scatter(i + 0.5, 0, s=100, \n",
    "                   color=COLORS[np.unique(spiderIDs).tolist().index(spiderID) + 0])\n",
    "        if recordingOrder >= 0:\n",
    "            ax.text(i + 0.5, -0.05, '{}'.format(recordingOrder + 1), \n",
    "                    fontsize=7, color='white', ha='center', va='center')\n",
    "    ax.set_xlim(0, 21)\n",
    "    ax.set_ylim(-0.5, 0.5)\n",
    "    ax.set_axis_off()\n",
    "\n",
    "    # Plot spider stabilimentum (top)\n",
    "    ax = fig.add_subplot(spec[2, 4])\n",
    "    for i, spiderID in enumerate(spiderIDs):    \n",
    "        # Draw spider identity\n",
    "        if hasStabilimentum[order[i]]:\n",
    "            ax.scatter((i + 0.5), 0, s=80, color='black', marker=stabilimentumMarker)\n",
    "    ax.set_xlim(0, 21)\n",
    "    ax.set_ylim(-0.5, 0.5)\n",
    "    ax.set_axis_off()\n",
    "    \n",
    "    # Plot spider canonical/noncanonical (top)\n",
    "    ax = fig.add_subplot(spec[1, 4])\n",
    "    for i, spiderID in enumerate(spiderIDs):    \n",
    "        # Draw spider identity\n",
    "        if not isCanonical[order[i]]:\n",
    "            ax.scatter((i + 0.5), 0, s=120, marker='*', color='black')\n",
    "    ax.set_xlim(0, 21)\n",
    "    ax.set_ylim(-0.5, 0.5)\n",
    "    ax.set_axis_off()\n",
    "    \n",
    "    # Plot spider labels (left)\n",
    "    ax = fig.add_subplot(spec[4, 3])\n",
    "    for i, (spiderID, recordingOrder) in enumerate(zip(spiderIDs[::-1], recordingOrders[::-1])):    \n",
    "        # Draw spider identity\n",
    "        ax.scatter(0, i + 0.5, s=100, color=COLORS[np.unique(spiderIDs).tolist().index(spiderID) + 0])\n",
    "        if recordingOrder >= 0:\n",
    "            ax.text(0, i + 0.5 - 0.05, '{}'.format(recordingOrder + 1), \n",
    "                    fontsize=7, color='white', ha='center', va='center')\n",
    "    ax.set_ylim(0, 21)\n",
    "    ax.set_xlim(-0.5, 0.5)\n",
    "    ax.set_axis_off()\n",
    "    \n",
    "    # Plot spider stabilimentum (left)\n",
    "    ax = fig.add_subplot(spec[4, 2])\n",
    "    for i, spiderID in enumerate(spiderIDs[::-1]):    \n",
    "        # Draw spider identity\n",
    "        if hasStabilimentum[order[i]]:\n",
    "            ax.scatter(0, 21 - (i + 0.5), s=80, color='black', marker=stabilimentumMarker)\n",
    "    ax.set_ylim(0, 21)\n",
    "    ax.set_xlim(-0.5, 0.5)\n",
    "    ax.set_axis_off()\n",
    "    \n",
    "    # Plot spider canonical/noncanonical (left)\n",
    "    ax = fig.add_subplot(spec[4, 1])\n",
    "    for i, spiderID in enumerate(spiderIDs[::-1]):    \n",
    "        # Draw spider identity\n",
    "        if not isCanonical[order[i]]:\n",
    "            ax.scatter(0, 21 - (i + 0.5), s=120, marker='*', color='black')\n",
    "    ax.set_ylim(0, 21)\n",
    "    ax.set_xlim(-0.5, 0.5)\n",
    "    ax.set_axis_off()\n",
    "\n",
    "    # Plot color scale\n",
    "    ax = fig.add_subplot(spec[4, 6])\n",
    "    plt.colorbar(img, cax=ax)\n",
    "    \n",
    "    # ...\n",
    "    fig.suptitle(['Anterior Distances', 'Posterior Distances'][k], y=1.02)\n",
    "\n",
    "    # Save\n",
    "    #fig.show()\n",
    "    fig.savefig('C:/Users/acorver/Desktop/paper-figures/Fig{}_2c_{}.pdf'.format(\n",
    "        '_suppl' if MODE=='wavelet' else '', k), bbox_inches='tight')"
   ]
  }
 ],
 "metadata": {
  "kernelspec": {
   "display_name": "Python 3",
   "language": "python",
   "name": "python3"
  },
  "language_info": {
   "codemirror_mode": {
    "name": "ipython",
    "version": 3
   },
   "file_extension": ".py",
   "mimetype": "text/x-python",
   "name": "python",
   "nbconvert_exporter": "python",
   "pygments_lexer": "ipython3",
   "version": "3.9.5"
  }
 },
 "nbformat": 4,
 "nbformat_minor": 2
}
