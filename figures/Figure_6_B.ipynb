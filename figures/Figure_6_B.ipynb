{
 "cells": [
  {
   "cell_type": "code",
   "execution_count": 2,
   "metadata": {},
   "outputs": [],
   "source": [
    "import glob, joblib as jl, numpy as np, pandas as pd, \\\n",
    "    matplotlib.pyplot as plt, warnings, seaborn as sns\n",
    "from tqdm import tqdm_notebook as tqdm\n",
    "warnings.simplefilter('ignore')"
   ]
  },
  {
   "cell_type": "markdown",
   "metadata": {},
   "source": [
    "### Load HHMM likelihood data"
   ]
  },
  {
   "cell_type": "code",
   "execution_count": 3,
   "metadata": {},
   "outputs": [
    {
     "data": {
      "text/plain": [
       "['Y:/wavelet/hhmm-results\\\\10regimes_12minrun_manuallabels_5fold.likelihoods.pickle',\n",
       " 'Y:/wavelet/hhmm-results\\\\1regimes_12minrun_manuallabels_5fold.likelihoods.pickle',\n",
       " 'Y:/wavelet/hhmm-results\\\\2regimes_12minrun_manuallabels_5fold.likelihoods.pickle',\n",
       " 'Y:/wavelet/hhmm-results\\\\3regimes_12minrun_manuallabels_5fold.likelihoods.pickle',\n",
       " 'Y:/wavelet/hhmm-results\\\\4regimes_12minrun_manuallabels_5fold.likelihoods.pickle',\n",
       " 'Y:/wavelet/hhmm-results\\\\5regimes_12minrun_manuallabels_5fold.likelihoods.pickle',\n",
       " 'Y:/wavelet/hhmm-results\\\\6regimes_12minrun_manuallabels_5fold.likelihoods.pickle',\n",
       " 'Y:/wavelet/hhmm-results\\\\7regimes_12minrun_manuallabels_5fold.likelihoods.pickle',\n",
       " 'Y:/wavelet/hhmm-results\\\\8regimes_12minrun_manuallabels_5fold.likelihoods.pickle',\n",
       " 'Y:/wavelet/hhmm-results\\\\9regimes_12minrun_manuallabels_5fold.likelihoods.pickle']"
      ]
     },
     "execution_count": 3,
     "metadata": {},
     "output_type": "execute_result"
    }
   ],
   "source": [
    "fnames = glob.glob('Y:/wavelet/hhmm-results/*regimes_12minrun_manuallabels_5fold.likelihoods.pickle')\n",
    "fnames = [x for x in fnames if not 'idxmapping' in x]\n",
    "fnames"
   ]
  },
  {
   "cell_type": "code",
   "execution_count": 4,
   "metadata": {},
   "outputs": [],
   "source": [
    "data = pd.concat([pd.read_pickle(fn) for fn in fnames])"
   ]
  },
  {
   "cell_type": "code",
   "execution_count": 16,
   "metadata": {},
   "outputs": [
    {
     "data": {
      "image/png": "[encoded data removed]",
      "text/plain": [
       "<Figure size 288x432 with 2 Axes>"
      ]
     },
     "metadata": {
      "needs_background": "light"
     },
     "output_type": "display_data"
    }
   ],
   "source": [
    "fig, ax = plt.subplots(2, 1, figsize=(4, 6))\n",
    "\n",
    "# In-sample\n",
    "for z, insample in enumerate([True, False]):\n",
    "    # Compute statistics\n",
    "    logLsDf2 = data.copy()\n",
    "    logLsDf2.loc[:,'probPerStep'] = np.exp(logLsDf2.logL / logLsDf2.N)\n",
    "    logLsDf2 = logLsDf2[logLsDf2.inTrainingSample] if insample else logLsDf2[~logLsDf2.inTrainingSample]\n",
    "    logLsDf2 = logLsDf2[np.isfinite(logLsDf2.logL)]\n",
    "    logLsDf2 = logLsDf2[~pd.isnull(logLsDf2)]\n",
    "    logLsDf3 = logLsDf2.groupby(['numRegimes', 'rep', 'fname']).agg({'probPerStep': 'mean'}).reset_index()\n",
    "    logLsDf3.loc[:,'probPerStep_mean'] = logLsDf3.probPerStep\n",
    "    logLsDf3.loc[:,'probPerStep_sem'] = 0\n",
    "    logLsDf4 = logLsDf3.groupby(['numRegimes', ]).agg({'probPerStep': ['mean', 'sem', 'std']}).reset_index()\n",
    "    logLsDf4.columns = logLsDf4.columns.get_level_values(0)\n",
    "    logLsDf4.columns = ['numRegimes', 'probPerStep_mean', 'probPerStep_sem', 'probPerStep_std']\n",
    "    \n",
    "    # Plot\n",
    "    ax[z].errorbar(logLsDf4.numRegimes, logLsDf4.probPerStep_mean, yerr=logLsDf4.probPerStep_std, \n",
    "                   color='#222222', ecolor='#aaaaaa', linewidth=2, elinewidth=2)\n",
    "    \n",
    "    ax[z].set_title(['In-Sample Likelihoods', 'Out-of-Sample Likelihoods'][z])\n",
    "    \n",
    "fig.tight_layout()\n",
    "fig.savefig('C:/Users/acorver/Desktop/paper-figures/Fig_4e.pdf', dpi=250)"
   ]
  }
 ],
 "metadata": {
  "kernelspec": {
   "display_name": "Python 3",
   "language": "python",
   "name": "python3"
  },
  "language_info": {
   "codemirror_mode": {
    "name": "ipython",
    "version": 3
   },
   "file_extension": ".py",
   "mimetype": "text/x-python",
   "name": "python",
   "nbconvert_exporter": "python",
   "pygments_lexer": "ipython3",
   "version": "3.9.5"
  }
 },
 "nbformat": 4,
 "nbformat_minor": 2
}
