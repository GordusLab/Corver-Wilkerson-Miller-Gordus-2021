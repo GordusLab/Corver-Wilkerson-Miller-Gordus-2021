{
 "cells": [
  {
   "cell_type": "markdown",
   "metadata": {},
   "source": [
    "#### Imports"
   ]
  },
  {
   "cell_type": "code",
   "execution_count": 2,
   "metadata": {},
   "outputs": [
    {
     "data": {
      "text/plain": [
       "15412"
      ]
     },
     "execution_count": 2,
     "metadata": {},
     "output_type": "execute_result"
    }
   ],
   "source": [
    "import os, glob, gc, regex as re, numpy as np, pandas as pd, simplification.cutil as simpl, \\\n",
    "    matplotlib.pyplot as plt, joblib as jl, json, time, matplotlib.gridspec as gridspec, \\\n",
    "    matplotlib.colors as mplcol, colorcet, miniball, matplotlib.ticker as ticker\n",
    "from matplotlib.patches import FancyBboxPatch\n",
    "from tqdm import tqdm_notebook as tqdm\n",
    "\n",
    "os.getpid()"
   ]
  },
  {
   "cell_type": "markdown",
   "metadata": {},
   "source": [
    "#### Set color scheme for plotting"
   ]
  },
  {
   "cell_type": "code",
   "execution_count": 3,
   "metadata": {},
   "outputs": [],
   "source": [
    "# Wong colorblind-safe palette\n",
    "# Source: https://www.nature.com/articles/nmeth.1618\n",
    "# Source: https://davidmathlogic.com/colorblind/#%23648FFF-%23785EF0-%23DC267F-%23FE6100-%23FFB000\n",
    "COLORS = [\n",
    "    (0, 0, 0),\n",
    "    (230, 159, 0),\n",
    "    (0, 158, 115),\n",
    "    (0, 114, 178),\n",
    "    (204, 121, 167),\n",
    "    (86, 180, 233),\n",
    "    (240, 228, 66),\n",
    "    (213, 94, 0)\n",
    "]\n",
    "COLORS = [mplcol.rgb2hex(np.array(x) / 255.0) for x in COLORS]"
   ]
  },
  {
   "cell_type": "markdown",
   "metadata": {},
   "source": [
    "#### Load HHMM data"
   ]
  },
  {
   "cell_type": "code",
   "execution_count": 4,
   "metadata": {},
   "outputs": [
    {
     "data": {
      "text/plain": [
       "['Y:/wavelet/hhmm-results\\\\5regimes_12minrun_manuallabels_5fold.pickle']"
      ]
     },
     "execution_count": 4,
     "metadata": {},
     "output_type": "execute_result"
    }
   ],
   "source": [
    "# Load polarpos data, and accompanying HHMM predictions\n",
    "#fnames = glob.glob('Y:/wavelet/hhmm-results/*regimes_12minrun_manuallabels_5fold.*.resave.pickle')\n",
    "fnames = glob.glob('Y:/wavelet/hhmm-results/*regimes_12minrun_manuallabels_5fold.pickle')\n",
    "fnames = [x for x in fnames if not 'idxmapping' in x]\n",
    "fnames = [fnames[5],]\n",
    "fnames"
   ]
  },
  {
   "cell_type": "code",
   "execution_count": null,
   "metadata": {},
   "outputs": [],
   "source": [
    "t0 = time.time()\n",
    "\n",
    "gc.collect()\n",
    "\n",
    "def loadPickle(fn):\n",
    "    try:\n",
    "        gc.disable()\n",
    "        return jl.load(fn)\n",
    "        gc.enable()\n",
    "    except Exception as e:\n",
    "        print(fn, str(e))\n",
    "        return None\n",
    "    \n",
    "data = [loadPickle(fn) for fn in tqdm(fnames)]\n",
    "data = [x for x in data if x is not None]\n",
    "\n",
    "t1 = time.time()"
   ]
  },
  {
   "cell_type": "markdown",
   "metadata": {},
   "source": [
    "#### Load position data"
   ]
  },
  {
   "cell_type": "code",
   "execution_count": 9,
   "metadata": {},
   "outputs": [],
   "source": [
    "def loadPositionData(modelIdx, modelRepIdx, modelRecIdx):\n",
    "    def loadJSON(x):\n",
    "        if os.path.exists(x):\n",
    "            with open(x, 'r') as f:\n",
    "                return json.load(f)\n",
    "        else:\n",
    "            return None\n",
    "\n",
    "    # Load position/orientation data\n",
    "    fnamePos = glob.glob(os.path.abspath(os.path.join(os.path.dirname(\n",
    "        data[modelIdx]['fnames'][modelRecIdx][0]), '../croprot/*dlc_position_orientation.npy')))[0]\n",
    "\n",
    "    # Load recording info\n",
    "    fnameRecInfo = os.path.join(os.path.dirname(os.path.dirname(fnamePos)), 'recording.json')\n",
    "    recordingInfo = loadJSON(fnameRecInfo)\n",
    "\n",
    "    # Create short name\n",
    "    fnamesShort = re.search('^Z:/.*/(.*)/.*/.*$', fnamePos.replace('\\\\', '/')).group(1)\n",
    "\n",
    "    # Fill in missing stage information, if necessary\n",
    "    s = recordingInfo\n",
    "    s['fname'] = fnamePos\n",
    "\n",
    "    # Does this recording.json file specify stage ranges, or starting points?\n",
    "    if isinstance(s['stages']['protoweb'], list):\n",
    "        for st in s['stages']:\n",
    "            try:\n",
    "                if not isinstance(s['stages'][st][0], list):\n",
    "                    s['stages'][st] = [s['stages'][st], ]\n",
    "            except:\n",
    "                s['stages'][st] = []\n",
    "    else:\n",
    "        # Add the end of the recording\n",
    "        a = np.load(s['fname'], mmap_mode='r')\n",
    "        s['stages']['end'] = a.shape[0]\n",
    "\n",
    "        if 'stabilimentum' in s['stages']:\n",
    "            if s['stages']['stabilimentum'] >= 0:\n",
    "                pass\n",
    "            else:\n",
    "                s['stages']['stabilimentum'] = s['stages']['end']\n",
    "        else:\n",
    "            s['stages']['stabilimentum'] = s['stages']['end']\n",
    "\n",
    "        # Now convert to ranges\n",
    "        s['stages']['protoweb'] = [[s['stages']['protoweb'], s['stages']['radii']],]\n",
    "        s['stages']['radii'] = [[s['stages']['radii'], s['stages']['spiral_aux']],]\n",
    "        s['stages']['spiral_aux'] = [[s['stages']['spiral_aux'], s['stages']['spiral_cap']],]\n",
    "        s['stages']['spiral_cap'] = [[s['stages']['spiral_cap'], s['stages']['stabilimentum']],]\n",
    "        s['stages']['stabilimentum'] = [[s['stages']['stabilimentum'], s['stages']['end']],]\n",
    "        del s['stages']['end']\n",
    "\n",
    "    # Convert to indices used in analysis\n",
    "    arrIdx = np.load(fnamePos.replace('_position_orientation.npy','_abs_filt_interp_mvmt_noborder.idx.npy'))\n",
    "    for st in s['stages']:\n",
    "        for k in range(len(s['stages'][st])):\n",
    "            for m in range(2):\n",
    "                s['stages'][st][k][m] = np.argmin(np.abs(np.argwhere(arrIdx).T[0] - s['stages'][st][k][m]))\n",
    "    \n",
    "    # Load original data\n",
    "    arr = np.load(fnamePos)\n",
    "\n",
    "    # Subset by index\n",
    "    arrIdx = np.load(fnamePos.replace('_position_orientation.npy',\n",
    "                                      '_abs_filt_interp_mvmt_noborder.idx.npy'))\n",
    "    arr = arr[arrIdx,:]\n",
    "    \n",
    "    # Done\n",
    "    return arr, recordingInfo"
   ]
  },
  {
   "cell_type": "markdown",
   "metadata": {},
   "source": [
    "#### Collect HHMM regime probabilities and compute polar position data"
   ]
  },
  {
   "cell_type": "code",
   "execution_count": 131,
   "metadata": {},
   "outputs": [],
   "source": [
    "def computeData(modelIdx, modelRepIdx, modelRecIdx):\n",
    "    # Load position data\n",
    "    arr, recordingInfo = loadPositionData(modelIdx, modelRepIdx, modelRecIdx)\n",
    "    \n",
    "    # Load index mapping\n",
    "    arrIdxMapping = jl.load(fnames[modelIdx].replace(re.search('([.0-9]*\\\\.pickle)$', \n",
    "        fnames[modelIdx]).group(0), '.idxmapping.pickle').replace('.resave', '').replace('.1', ''))\n",
    "\n",
    "    # Load raw regime probabilities\n",
    "    try:\n",
    "        d = data[modelIdx]['models'][modelRepIdx]['statesPredProb'][modelRecIdx].copy()\n",
    "    except:\n",
    "        d = data[modelIdx]['models'][modelRepIdx]['model'].predict_log_proba(\n",
    "            data[modelIdx]['models'][modelRepIdx]['model-fit-states'][modelRecIdx]).copy()\n",
    "    regimeIDs = np.array([(int(x.group(1)) if x is not None else -1) for x in [re.search('^r([0-9]*)_', x.name) \\\n",
    "        for x in data[modelIdx]['models'][modelRepIdx]['model'].states]])\n",
    "\n",
    "    probRegimes = np.zeros((d.shape[0], data[modelIdx]['numRegimesHHMM']))\n",
    "    for regimeID in range(probRegimes.shape[1]):\n",
    "        probRegimes[:, regimeID] = np.nanmax(d[:, np.argwhere(regimeIDs == regimeID)[:,0]], axis=1)\n",
    "    probRegimes = np.exp(probRegimes)\n",
    "\n",
    "    # Reshape array to re-introduce duplicate states using the index loaded above\n",
    "    probRegimes = np.array([(probRegimes[i,:] if i >= 0 else np.full(\n",
    "        probRegimes.shape[1], np.nan)) for i in arrIdxMapping[modelRecIdx]])\n",
    "    \n",
    "    for regimeID in range(probRegimes.shape[1]):\n",
    "        probRegimes[:, regimeID] = pd.DataFrame(probRegimes[:, regimeID]).fillna(\n",
    "            method='ffill').fillna(method='bfill').values[:,0]\n",
    "    \n",
    "    # Smooth and stack regime probabilities\n",
    "    probRegimesSmoothed = probRegimes.copy()\n",
    "    for j in range(probRegimes.shape[1]):\n",
    "        probRegimesSmoothed[:,j] = pd.DataFrame(probRegimes[:,j]).rolling(window=500).max().values[:,0]\n",
    "    probRegimesSmoothed /= np.sum(probRegimesSmoothed, axis=1)[:,np.newaxis]\n",
    "\n",
    "    # Done\n",
    "    return arr, probRegimes, probRegimesSmoothed, recordingInfo"
   ]
  },
  {
   "cell_type": "markdown",
   "metadata": {},
   "source": [
    "#### Plot spider position and regime probabilities"
   ]
  },
  {
   "cell_type": "code",
   "execution_count": null,
   "metadata": {
    "scrolled": true
   },
   "outputs": [],
   "source": [
    "modelIdx = 0\n",
    "\n",
    "for modelRepIdx in tqdm(range(len(data[modelIdx]['models']))):\n",
    "    Nrec = len(data[modelIdx]['fnames'])\n",
    "    d = [computeData(modelIdx, modelRepIdx, modelRecIdx) for modelRecIdx in tqdm(range(Nrec), leave=False)]\n",
    "\n",
    "    examples = np.arange(21, dtype=int)\n",
    "\n",
    "    REGIME_REMAP = [0, 2, 4, 1, 3]\n",
    "\n",
    "    # Plot\n",
    "    resVW_wAll = 500\n",
    "    resVW_w = 100\n",
    "    nrows = 6\n",
    "    nRegimes = 5\n",
    "    ncols = int(np.ceil(len(examples) / nRegimes)) * nRegimes\n",
    "    fig, ax = plt.subplots(nrows, ncols, figsize=(ncols * 2, nrows * 2.5))\n",
    "    fig.subplots_adjust(hspace=-0.5, wspace=-0.5)\n",
    "\n",
    "    axBg = fig.add_axes([0,0,1,1])\n",
    "    axBg.xaxis.set_visible(False)\n",
    "    axBg.yaxis.set_visible(False)\n",
    "    axBg.set_axis_off()\n",
    "    axBg.set_zorder(-1000)\n",
    "\n",
    "    for i in range(nrows):\n",
    "        for j in range(ncols):\n",
    "            ax[i][j].set_axis_off()\n",
    "            ax[i][j].set_aspect('equal')\n",
    "\n",
    "    for i, ex in tqdm(enumerate(examples), leave=False):\n",
    "        arr, probRegimes = d[ex][0], d[ex][1]\n",
    "        for regimeID in range(probRegimes.shape[1]):\n",
    "            r = int(i%nrows)\n",
    "            c = int(i/nrows) * nRegimes + REGIME_REMAP[regimeID]\n",
    "\n",
    "            if regimeID == 0:\n",
    "                axBg.add_patch(FancyBboxPatch(\n",
    "                    (c * 0.982 / ncols + 0.008, r * 0.982 / nrows - 0.002), 0.331, 0.258,\n",
    "                    boxstyle=\"round,pad=-0.0040,rounding_size=0.007\",\n",
    "                    ec=\"#aaaaaa\", fc='#fbfbfb', clip_on=False,\n",
    "                    mutation_aspect=ncols / nrows))\n",
    "\n",
    "            xy = pd.DataFrame(arr[:, 0:2]).fillna(method='ffill').fillna(method='bfill').values.copy()\n",
    "            xy = simpl.simplify_coords_vw(xy, resVW_wAll)\n",
    "            segmentIDs = np.cumsum(np.linalg.norm(xy - np.roll(xy, 1, axis=0), axis=1) > 100)\n",
    "\n",
    "            for sid in np.unique(segmentIDs):\n",
    "                ax[r][c].plot(\n",
    "                    xy[segmentIDs==sid, 0], xy[segmentIDs==sid, 1], \n",
    "                    color='#bbbbbb', linewidth=0.5)\n",
    "\n",
    "            xy = arr[np.argmax(probRegimes, axis=1) == regimeID, 0:2].copy()\n",
    "            xy = pd.DataFrame(xy).fillna(method='ffill').fillna(method='bfill').values.copy()\n",
    "            xy = simpl.simplify_coords_vw(xy, resVW_w)\n",
    "            segmentIDs = np.cumsum(np.linalg.norm(xy - np.roll(xy, 1, axis=0), axis=1) > 100)\n",
    "\n",
    "            for sid in np.unique(segmentIDs):\n",
    "                ax[r][c].plot(\n",
    "                    xy[segmentIDs==sid, 0], xy[segmentIDs==sid, 1], \n",
    "                    color=COLORS[REGIME_REMAP[regimeID]+1], linewidth=1)\n",
    "            \n",
    "            ax[r][c].set_axis_off()\n",
    "            ax[r][c].set_xlim(100, 924)\n",
    "            ax[r][c].set_ylim(100, 924)\n",
    "\n",
    "    fig.tight_layout()\n",
    "    fig.savefig('C:/Users/acorver/Desktop/paper-figures/Fig_4f_{}_{}.pdf'.format(\n",
    "        data[modelIdx]['numRegimesHHMM'], modelRepIdx))"
   ]
  },
  {
   "cell_type": "markdown",
   "metadata": {},
   "source": [
    "### Supplementary Figure"
   ]
  },
  {
   "cell_type": "code",
   "execution_count": null,
   "metadata": {},
   "outputs": [],
   "source": [
    "modelIdx = 0\n",
    "modelRecIdx = 10\n",
    "\n",
    "Nrec = len(data[modelIdx]['fnames'])\n",
    "d = [computeData(modelIdx, modelRepIdx, modelRecIdx) for modelRepIdx in tqdm(\n",
    "    range(len(data[modelIdx]['models'])), leave=False)]\n",
    "\n",
    "examples = np.arange(len(d), dtype=int)\n",
    "\n",
    "REGIME_REMAP = np.arange(data[modelIdx]['numRegimesHHMM'], dtype=int)\n",
    "\n",
    "# Plot\n",
    "resVW_wAll = 500\n",
    "resVW_w = 100\n",
    "nrows = 6\n",
    "nRegimes = data[modelIdx]['numRegimesHHMM']\n",
    "ncols = int(np.ceil(len(examples) / nRegimes)) * nRegimes\n",
    "fig, ax = plt.subplots(nrows, ncols, figsize=(ncols * 2, nrows * 2.5))\n",
    "fig.subplots_adjust(hspace=-0.5, wspace=-0.5)\n",
    "\n",
    "axBg = fig.add_axes([0,0,1,1])\n",
    "axBg.xaxis.set_visible(False)\n",
    "axBg.yaxis.set_visible(False)\n",
    "axBg.set_axis_off()\n",
    "axBg.set_zorder(-1000)\n",
    "\n",
    "for i in range(nrows):\n",
    "    for j in range(ncols):\n",
    "        ax[i][j].set_axis_off()\n",
    "        ax[i][j].set_aspect('equal')\n",
    "\n",
    "for i, ex in tqdm(enumerate(examples), leave=False):\n",
    "    arr, probRegimes = d[ex][0], d[ex][1]\n",
    "    for regimeID in range(probRegimes.shape[1]):\n",
    "        r = int(i%nrows)\n",
    "        c = int(i/nrows) * nRegimes + REGIME_REMAP[regimeID]\n",
    "\n",
    "        if regimeID == 0:\n",
    "            axBg.add_patch(FancyBboxPatch(\n",
    "                (c * 0.982 / ncols + 0.008, r * 0.982 / nrows - 0.002), 0.331, 0.258,\n",
    "                boxstyle=\"round,pad=-0.0040,rounding_size=0.007\",\n",
    "                ec=\"#aaaaaa\", fc='#fbfbfb', clip_on=False,\n",
    "                mutation_aspect=ncols / nrows))\n",
    "\n",
    "        xy = pd.DataFrame(arr[:, 0:2]).fillna(method='ffill').fillna(method='bfill').values.copy()\n",
    "        xy = simpl.simplify_coords_vw(xy, resVW_wAll)\n",
    "        segmentIDs = np.cumsum(np.linalg.norm(xy - np.roll(xy, 1, axis=0), axis=1) > 100)\n",
    "\n",
    "        for sid in np.unique(segmentIDs):\n",
    "            ax[r][c].plot(\n",
    "                xy[segmentIDs==sid, 0], xy[segmentIDs==sid, 1], \n",
    "                color='#bbbbbb', linewidth=0.5)\n",
    "\n",
    "        xy = arr[np.argmax(probRegimes, axis=1) == regimeID, 0:2].copy()\n",
    "        xy = pd.DataFrame(xy).fillna(method='ffill').fillna(method='bfill').values.copy()\n",
    "        xy = simpl.simplify_coords_vw(xy, resVW_w)\n",
    "        segmentIDs = np.cumsum(np.linalg.norm(xy - np.roll(xy, 1, axis=0), axis=1) > 100)\n",
    "\n",
    "        for sid in np.unique(segmentIDs):\n",
    "            ax[r][c].plot(\n",
    "                xy[segmentIDs==sid, 0], xy[segmentIDs==sid, 1], \n",
    "                color=COLORS[REGIME_REMAP[regimeID]+1], linewidth=1)\n",
    "\n",
    "        ax[r][c].set_axis_off()\n",
    "        ax[r][c].set_xlim(100, 924)\n",
    "        ax[r][c].set_ylim(100, 924)\n",
    "\n",
    "fig.tight_layout()\n",
    "fig.savefig('C:/Users/acorver/Desktop/paper-figures/Fig_Suppl_4X_{}_{}.pdf'.format(\n",
    "    data[modelIdx]['numRegimesHHMM'], modelRecIdx))"
   ]
  },
  {
   "cell_type": "markdown",
   "metadata": {},
   "source": [
    "### Misc. statistics, move to separate script"
   ]
  },
  {
   "cell_type": "code",
   "execution_count": 166,
   "metadata": {},
   "outputs": [
    {
     "data": {
      "text/plain": [
       "array([11109, 11645, 20964, 22734, 13733,  9247,  9879, 11882,  6567,\n",
       "       11434, 11460, 15680, 13135,  7427, 13254,  7798,  7269, 14795,\n",
       "       12946, 15854,  9955])"
      ]
     },
     "execution_count": 166,
     "metadata": {},
     "output_type": "execute_result"
    }
   ],
   "source": [
    "numStatesAll = np.array([x.size for x in data[0]['models'][0]['model-fit-states']])\n",
    "numTransAll = numStatesAll - 1\n",
    "numTransAll"
   ]
  },
  {
   "cell_type": "code",
   "execution_count": 167,
   "metadata": {},
   "outputs": [
    {
     "data": {
      "text/plain": [
       "(12322.238095238095, 4051.0586377103705)"
      ]
     },
     "execution_count": 167,
     "metadata": {},
     "output_type": "execute_result"
    }
   ],
   "source": [
    "np.mean(numTransAll), np.std(numTransAll)"
   ]
  },
  {
   "cell_type": "code",
   "execution_count": 169,
   "metadata": {},
   "outputs": [
    {
     "data": {
      "text/plain": [
       "(7427.0, 15854.0)"
      ]
     },
     "execution_count": 169,
     "metadata": {},
     "output_type": "execute_result"
    }
   ],
   "source": [
    "np.percentile(numTransAll, 10), np.percentile(numTransAll, 90)"
   ]
  }
 ],
 "metadata": {
  "kernelspec": {
   "display_name": "Python 3",
   "language": "python",
   "name": "python3"
  },
  "language_info": {
   "codemirror_mode": {
    "name": "ipython",
    "version": 3
   },
   "file_extension": ".py",
   "mimetype": "text/x-python",
   "name": "python",
   "nbconvert_exporter": "python",
   "pygments_lexer": "ipython3",
   "version": "3.9.5"
  }
 },
 "nbformat": 4,
 "nbformat_minor": 2
}
