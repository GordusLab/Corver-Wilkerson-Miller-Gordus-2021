{
 "cells": [
  {
   "cell_type": "code",
   "execution_count": null,
   "metadata": {},
   "outputs": [],
   "source": []
  },
  {
   "cell_type": "markdown",
   "metadata": {},
   "source": [
    "### Imports"
   ]
  },
  {
   "cell_type": "code",
   "execution_count": null,
   "metadata": {},
   "outputs": [],
   "source": [
    "import glob, scipy.io, matplotlib.pyplot as plt, numpy as np, os, seaborn as sns, pandas as pd, \\\n",
    "    matplotlib.collections as mc, regex as re, os, matplotlib.colors as mplcol, shapely.geometry as geom\n",
    "from scipy.stats import gaussian_kde\n",
    "from tqdm import tqdm_notebook as tqdm"
   ]
  },
  {
   "cell_type": "markdown",
   "metadata": {},
   "source": [
    "### Load Data"
   ]
  },
  {
   "cell_type": "code",
   "execution_count": null,
   "metadata": {},
   "outputs": [],
   "source": [
    "# Enumerate all manual annotations\n",
    "fnamesAll = glob.glob('Z:/behavior/*/croprot/*.manual_annotation.labels.mat')\n",
    "fnamesAll = [x for x in fnamesAll if 'RIG' not in x]\n",
    "len(fnamesAll)"
   ]
  },
  {
   "cell_type": "code",
   "execution_count": null,
   "metadata": {},
   "outputs": [],
   "source": [
    "#@nb.njit(nogil=True)\n",
    "def applyRotationAlongAxis(R, X):\n",
    "    \"\"\"\n",
    "    This helper function applies a rotation matrix to every <X, Y> position tuple in a Nx2 matrix.\n",
    "    Note: Numba JIT leads to a ~6-fold speed improvement.\n",
    "    \"\"\"\n",
    "    for i in range(X.shape[0]):\n",
    "        for j in range(X.shape[1]):\n",
    "            X[i, j, 0:2] = R[:, :, i] @ X[i, j, 0:2]"
   ]
  },
  {
   "cell_type": "code",
   "execution_count": null,
   "metadata": {},
   "outputs": [],
   "source": [
    "def loadData(fnameGT):\n",
    "    fnameGTf = fnameGT.replace('.labels.mat','.frames_used.npy')\n",
    "    fnameDLC = fnameGT.replace('.manual_annotation.labels.mat','_dlc.npy')\n",
    "    fnameLeap= fnameGT.replace('.manual_annotation.labels.mat','_leap.npy')\n",
    "    \n",
    "    if os.path.exists(fnameDLC.replace('.npy', '.2.npy')):\n",
    "        fnameDLC = fnameDLC.replace('.npy', '.2.npy')\n",
    "    if os.path.exists(fnameLeap.replace('.npy', '.2.npy')):\n",
    "        fnameLeap = fnameLeap.replace('.npy', '.2.npy')\n",
    "    \n",
    "    try:\n",
    "        dataGT     = np.moveaxis(scipy.io.loadmat(fnameGT)['positions'], 2, 0)\n",
    "    except Exception as e:\n",
    "        print(e)\n",
    "        return np.array([]), None, None, None, None, None, None\n",
    "    framesUsed = np.load(fnameGTf)\n",
    "    \n",
    "    N = int(np.memmap(fnameDLC, dtype=np.float32).size / (26 * 3))\n",
    "    dataLeapAll = np.memmap(fnameLeap, shape=(N, 3, 26), mode='r', dtype=np.float32)\n",
    "    dataDLCAll  = np.memmap(fnameDLC , shape=(N, 3, 26), mode='r', dtype=np.float32)\n",
    "    \n",
    "    dataLeap = np.moveaxis(dataLeapAll[framesUsed,:,:].copy(), 2, 1)[:,:,0:2]\n",
    "    dataDLC  = np.moveaxis(dataDLCAll [framesUsed,:,:].copy(), 2, 1)[:,:,0:2]\n",
    "    \n",
    "    # Obtain the subsetted dataset of actually annotated frames\n",
    "    framesAnnotated = np.any(np.any(~np.isnan(dataGT), axis=2), axis=1)\n",
    "\n",
    "    dataGT   = dataGT  [framesAnnotated] - 100\n",
    "    dataLeap = dataLeap[framesAnnotated] - 100\n",
    "    dataDLC  = dataDLC [framesAnnotated] - 100\n",
    "    \n",
    "    # Set missing coordinates to NaN: GT\n",
    "    dataGT[np.linalg.norm(dataGT, axis=2) > 90,:] = np.nan\n",
    "    \n",
    "    # Load corrected frames\n",
    "    dataDLCcorr = None\n",
    "    dataLeapcorr= None\n",
    "    \n",
    "    for method in ['leap', 'dlc']:\n",
    "        pos = np.memmap(fnameGT.replace('.manual_annotation.labels.mat','_mat.npy'), \n",
    "                        dtype=np.double, shape=(dataLeapAll.shape[0], 4), mode='r')[framesUsed, :]\n",
    "\n",
    "        corr = np.load(fnameGT.replace('.manual_annotation.labels.mat',\n",
    "            '_{}_abs_filt_interp.npy'.format(method)))[framesUsed,:,0:2]\n",
    "        corr -= np.repeat(pos[:,1:3][:,np.newaxis,:], 26, axis=1)\n",
    "\n",
    "        # Only keep annotated frames\n",
    "        pos  = pos [framesAnnotated]\n",
    "        corr = corr[framesAnnotated].astype(np.float64)\n",
    "        \n",
    "        theta = -pos[:,3] * np.pi / 180.0\n",
    "        c, s = np.cos(theta), np.sin(theta)\n",
    "        R = np.array(((c, -s), (s, c)), dtype=np.double)\n",
    "        applyRotationAlongAxis(R, corr)\n",
    "        \n",
    "        if method == 'leap':\n",
    "            # For now, don't compare inferred points that are missing in LEAP/DLC\n",
    "            corr[np.isnan(dataLeap)] = np.nan\n",
    "            dataLeapcorr = corr\n",
    "        elif method == 'dlc':\n",
    "            dataDLCcorr = corr\n",
    "\n",
    "    return dataGT, dataLeap, dataDLC, dataLeapcorr, dataDLCcorr, dataLeapAll, dataDLCAll"
   ]
  },
  {
   "cell_type": "code",
   "execution_count": null,
   "metadata": {},
   "outputs": [],
   "source": [
    "def getErrors(fname, corrected = False):\n",
    "    dataGT, dataLeap, dataDLC, dataLeapcorr, \\\n",
    "        dataDLCcorr, dataLeapAll, dataDLCAll = loadData(fname)\n",
    "    \n",
    "    if dataGT.size == 0:\n",
    "        return None\n",
    "    \n",
    "    # Compute errors\n",
    "    if corrected:\n",
    "        errLeap = dataLeapcorr - dataGT\n",
    "        errDLC  = dataDLCcorr  - dataGT\n",
    "    else:\n",
    "        errLeap = dataLeap - dataGT\n",
    "        errDLC  = dataDLC  - dataGT\n",
    "\n",
    "    errLeapsk = errLeap + np.repeat(skeleton[np.newaxis, :, :], errLeap.shape[0], axis=0)\n",
    "    errDLCsk  = errDLC  + np.repeat(skeleton[np.newaxis, :, :], errLeap.shape[0], axis=0)\n",
    "    \n",
    "    return errLeap, errDLC, errLeapsk, errDLCsk, dataGT"
   ]
  },
  {
   "cell_type": "markdown",
   "metadata": {},
   "source": [
    "### Plotting function"
   ]
  },
  {
   "cell_type": "code",
   "execution_count": null,
   "metadata": {},
   "outputs": [],
   "source": [
    "def plotFrame(d, fidx, ax, jointcolor='#000000', segmentcolor='#000000'):\n",
    "    # Draw body joints\n",
    "    for i in range(26):\n",
    "        _x = d[fidx, i,0]\n",
    "        _y = d[fidx, i,1]\n",
    "        if not np.isnan(_x) and not np.isnan(_y):\n",
    "            pass\n",
    "            #ax.scatter(_x, _y, c=jointcolor)\n",
    "            #ax.text(_x, _y, i, fontsize=12, color=jointcolor)\n",
    "    \n",
    "    def _plot(x, y, c):\n",
    "        if not np.isnan(x[0]) and \\\n",
    "            not np.isnan(x[1]) and \\\n",
    "            not np.isnan(y[0]) and \\\n",
    "            not np.isnan(y[1]):\n",
    "            ax.plot(x, y, c)\n",
    "\n",
    "    # Draw body segments\n",
    "    def _p(i, j): return [\n",
    "        (d[fidx, i, 0], d[fidx, j, 0]), \n",
    "        (d[fidx, i, 1], d[fidx, j, 1]), segmentcolor]\n",
    "\n",
    "    _plot( *_p(14,18) ); _plot( *_p(18,22) )\n",
    "    _plot( *_p( 2, 6) ); _plot( *_p( 6,10) )\n",
    "\n",
    "    _plot( *_p(15,19) ); _plot( *_p(19,23) )\n",
    "    _plot( *_p( 3, 7) ); _plot( *_p( 7,11) )\n",
    "\n",
    "    _plot( *_p(16,20) ); _plot( *_p(20,24) )\n",
    "    _plot( *_p( 4, 8) ); _plot( *_p( 8,12) )\n",
    "\n",
    "    _plot( *_p(17,21) ); _plot( *_p(21,25) )\n",
    "    _plot( *_p( 5, 9) ); _plot( *_p( 9,13) )\n",
    "    \n",
    "    # Set bounding box for display\n",
    "    plt.xlim(-75, 75)\n",
    "    plt.ylim(-75, 75)"
   ]
  },
  {
   "cell_type": "markdown",
   "metadata": {},
   "source": [
    "### Create display skeleton"
   ]
  },
  {
   "cell_type": "code",
   "execution_count": null,
   "metadata": {},
   "outputs": [],
   "source": [
    "skeleton = np.array([\n",
    "    [ 12, 0, 0], # 0\n",
    "    [-12, 0, 0], # 1\n",
    "    [ 10, 10, 0], # 2\n",
    "    [5, 15, 0], # 3\n",
    "    [-5, 20, 0], # 4\n",
    "    [-10, 15, 0], # 5\n",
    "    [20,20, 0], # 6\n",
    "    [10, 35, 0], # 7\n",
    "    [-5, 40, 0], # 8\n",
    "    [-20,30, 0], # 9\n",
    "    [40,30, 0], # 10\n",
    "    [0, 60, 0], # 11\n",
    "    [-15, 60, 0], # 12\n",
    "    [-40,30, 0], # 13\n",
    "    [10, -10, 0], # 14\n",
    "    [5, -15, 0], # 15\n",
    "    [-5, -20, 0], # 16\n",
    "    [-10, -15, 0], # 17\n",
    "    [20,-20, 0], # 18\n",
    "    [10, -40, 0], # 19\n",
    "    [-5, -40, 0], # 20\n",
    "    [-20,-30, 0], # 21\n",
    "    [40,-30, 0], # 22\n",
    "    [0, -60, 0], # 23\n",
    "    [-15, -60, 0], # 24\n",
    "    [-40,-30, 0]  # 25\n",
    "], dtype=np.float32)[:,0:2]\n",
    "\n",
    "skeleton *= np.array([2, 1])\n",
    "\n",
    "fig, ax = plt.subplots(1, 1, figsize=(8,8))\n",
    "plotFrame(np.array([skeleton,]), 0, ax)\n",
    "plt.show(fig)"
   ]
  },
  {
   "cell_type": "markdown",
   "metadata": {},
   "source": [
    "### Color Palette"
   ]
  },
  {
   "cell_type": "code",
   "execution_count": null,
   "metadata": {},
   "outputs": [],
   "source": [
    "# Define color scheme\n",
    "COLORS = [\n",
    "    (0, 0, 0),\n",
    "    (230, 159, 0),\n",
    "    (0, 158, 115),\n",
    "    (0, 114, 178),\n",
    "    (204, 121, 167)\n",
    "]\n",
    "COLORS = [mplcol.rgb2hex(np.array(x) / 255.0) for x in COLORS]"
   ]
  },
  {
   "cell_type": "markdown",
   "metadata": {},
   "source": [
    "### Count datapoints used"
   ]
  },
  {
   "cell_type": "code",
   "execution_count": null,
   "metadata": {},
   "outputs": [],
   "source": [
    "errs = [getErrors(x, corrected=True) for x in tqdm(fnamesAll)]"
   ]
  },
  {
   "cell_type": "code",
   "execution_count": null,
   "metadata": {},
   "outputs": [],
   "source": [
    "np.sum([x[0].shape[0] for x in errs if x is not None])"
   ]
  },
  {
   "cell_type": "markdown",
   "metadata": {},
   "source": [
    "### Plot"
   ]
  },
  {
   "cell_type": "code",
   "execution_count": null,
   "metadata": {},
   "outputs": [],
   "source": [
    "def plotErrors(ax, method = 'dlc'):\n",
    "    # Check method parameter\n",
    "    if method not in ['dlc', 'leap']:\n",
    "        raise Exception('Method should be either dlc or leap')\n",
    "    \n",
    "    # Compute errors\n",
    "    errs = [getErrors(x, corrected=True) for x in tqdm(fnamesAll)]\n",
    "    \n",
    "    # Superimpose errors onto skeleton\n",
    "    errsDLC = np.vstack([x[1 if method == 'dlc' else 0] for x in errs if x is not None])\n",
    "    errsDLC = errsDLC + np.array(skeleton)[np.newaxis, :, :]\n",
    "    \n",
    "    # Monkey-patch Seaborn to enable extraction of contour\n",
    "    def contourMonkeyPatch(contourPrev, out):\n",
    "        def _f(*k, **kw):\n",
    "            r = contourPrev(*k, **kw)\n",
    "            out.append(r)\n",
    "            return r\n",
    "        return _f\n",
    "    \n",
    "    for i in range(26):\n",
    "        # Monkey-Patch contour function to save the contour coordinates to the 'arrContours' list\n",
    "        arrContours = []\n",
    "        contourPrev = ax.contour\n",
    "        ax.contour = contourMonkeyPatch(contourPrev, arrContours)\n",
    "        # Plot 95% contour\n",
    "        sns.kdeplot(x=errsDLC[:,i,0], ax=ax, y=errsDLC[:,i,1], levels=[.05,], color=COLORS[0], zorder=10,\n",
    "                    label=None if i != 0 else '95th percentile')\n",
    "        ax.contour = contourPrev\n",
    "        # Determine outlier points\n",
    "        xyOutlier = np.logical_not(np.any(np.array([[geom.Polygon(seg).contains(geom.Point(p)) for p in errsDLC[:,i,:]] for \\\n",
    "            seg in arrContours[0].allsegs[0] if len(seg) > 0]), axis=0))\n",
    "        xyOutliers = errsDLC[xyOutlier, i, :]\n",
    "        # Plot outliers\n",
    "        if i not in [0, 1, 2, 3, 4, 5, 14, 15, 16, 17]:\n",
    "            ax.scatter(xyOutliers[:,0], xyOutliers[:,1], color='red', s=10)\n",
    "            for k in range(xyOutliers.shape[0]):\n",
    "                ax.plot([skeleton[i,0], xyOutliers[k,0]], \n",
    "                        [skeleton[i,1], xyOutliers[k,1]], color='gray')\n",
    "        # Plot remaining contours\n",
    "        sns.kdeplot(x=errsDLC[:,i,0], ax=ax, y=errsDLC[:,i,1], levels=[.50,], color=COLORS[1], zorder=10,\n",
    "                    label=None if i != 0 else '50th percentile')\n",
    "        sns.kdeplot(x=errsDLC[:,i,0], ax=ax, y=errsDLC[:,i,1], levels=[.25,], color=COLORS[2], zorder=10,\n",
    "                    label=None if i != 0 else '75th percentile')\n",
    "\n",
    "    ax.set_axis_off()\n",
    "\n",
    "    plotFrame(np.array([skeleton,]), 0, ax)\n",
    "    ax.set_xlim(-120, 120)\n",
    "    ax.set_ylim(-100, 100)\n",
    "    \n",
    "    ax.legend()\n",
    "    \n",
    "    ax.set_title(method)"
   ]
  },
  {
   "cell_type": "code",
   "execution_count": null,
   "metadata": {
    "scrolled": false
   },
   "outputs": [],
   "source": [
    "fig, ax = plt.subplots(2, 1, figsize=(12, 16))\n",
    "\n",
    "plotErrors(ax[0], 'dlc')\n",
    "plotErrors(ax[1], 'leap')\n",
    "\n",
    "fig.savefig('C:/Users/acorver/Desktop/paper-figures/fig1d.pdf', dpi=1000)"
   ]
  },
  {
   "cell_type": "markdown",
   "metadata": {},
   "source": [
    "### Supplementary Figure"
   ]
  },
  {
   "cell_type": "code",
   "execution_count": null,
   "metadata": {},
   "outputs": [],
   "source": [
    "errsUncorr = [getErrors(x, corrected=False) for x in tqdm(fnamesAll)]"
   ]
  },
  {
   "cell_type": "code",
   "execution_count": null,
   "metadata": {},
   "outputs": [],
   "source": [
    "MAXERROR = 30"
   ]
  },
  {
   "cell_type": "code",
   "execution_count": null,
   "metadata": {},
   "outputs": [],
   "source": [
    "data = []\n",
    "for method in ['dlc', 'leap']:\n",
    "    for err in errsUncorr:\n",
    "        if err is not None:\n",
    "            _err = err[1 if method == 'dlc' else 0]\n",
    "            for i in range(_err.shape[0]):\n",
    "                for limb in range(_err.shape[1]):\n",
    "                    data.append((method, limb, min(MAXERROR, np.linalg.norm(_err[i, limb, :]))))\n",
    "                    \n",
    "data = pd.DataFrame(data, columns=['method', 'limb', 'error'])"
   ]
  },
  {
   "cell_type": "code",
   "execution_count": null,
   "metadata": {},
   "outputs": [],
   "source": [
    "def getKDE(data, limb, method):\n",
    "    v = data.error[(data.limb==limb)&(data.method==method)]\n",
    "    v = v[~np.isnan(v)]\n",
    "    kdex = np.linspace(0, MAXERROR, 100)\n",
    "    kde = gaussian_kde(v)\n",
    "    kde.set_bandwidth(0.1)\n",
    "    return kdex, kde.evaluate(kdex)"
   ]
  },
  {
   "cell_type": "code",
   "execution_count": null,
   "metadata": {},
   "outputs": [],
   "source": [
    "fig, ax = plt.subplots(5, 6, figsize=(12, 9))\n",
    "subplotPositions = [0, 1, 2, 3, 4, 6, 7, 8, 9, 10, 12, 13, 14, 15, 16, 18, 19, 20, 21, 22, 24, 25, 26, 27, 28, 29]\n",
    "subplotEmpty = list(set(list(range(30))) - set(subplotPositions))\n",
    "for limb in range(30):    \n",
    "    if limb < 26:\n",
    "        icol = subplotPositions[limb]%6\n",
    "        irow = int(subplotPositions[limb]/6)\n",
    "\n",
    "        kdex1, kde1 = getKDE(data, limb, 'dlc')\n",
    "        kdex2, kde2 = getKDE(data, limb, 'leap')\n",
    "\n",
    "        ax[irow][icol].plot(kdex1, kde1, color='red', label='DeepLabCut' if limb == 0 else None)\n",
    "        ax[irow][icol].plot(kdex2, kde2, color='blue', label='LEAP' if limb == 0 else None)\n",
    "\n",
    "        ax[irow][icol].set_title(limb)\n",
    "        ax[irow][icol].set_xlim(0, MAXERROR+1)\n",
    "        ax[irow][icol].set_ylim(0, 0.5)\n",
    "\n",
    "        ax[irow][icol].get_xaxis().set_visible(irow == 4)\n",
    "        ax[irow][icol].get_yaxis().set_visible(icol == 0)\n",
    "        \n",
    "        ax[irow][icol].set_yticks(np.linspace(0, 0.5, 6))\n",
    "    else:\n",
    "        icol = subplotEmpty[limb-26]%6\n",
    "        irow = int(subplotEmpty[limb-26]/6)\n",
    "        fig.delaxes(ax[irow][icol])\n",
    "        \n",
    "fig.legend()\n",
    "fig.tight_layout()\n",
    "\n",
    "fig.savefig('C:/Users/acorver/Desktop/paper-figures/Fig_Suppl_3C.pdf')"
   ]
  },
  {
   "cell_type": "markdown",
   "metadata": {},
   "source": [
    "### A few statistics"
   ]
  },
  {
   "cell_type": "code",
   "execution_count": null,
   "metadata": {},
   "outputs": [],
   "source": [
    "data.error[(data.method=='leap')&(data.limb.isin([0, 1, 6, 10, 18, 22, 9, 13, 21, 25]))].mean()"
   ]
  },
  {
   "cell_type": "code",
   "execution_count": null,
   "metadata": {},
   "outputs": [],
   "source": [
    "data.error[(data.method=='dlc')&(data.limb.isin([0, 1, 6, 10, 18, 22, 9, 13, 21, 25]))].mean()"
   ]
  },
  {
   "cell_type": "code",
   "execution_count": null,
   "metadata": {},
   "outputs": [],
   "source": [
    "data.error[(data.method=='leap')&(data.limb.isin([0, 1, 6, 10, 18, 22, 9, 13, 21, 25]))].median()"
   ]
  },
  {
   "cell_type": "code",
   "execution_count": null,
   "metadata": {},
   "outputs": [],
   "source": [
    "data.error[(data.method=='dlc')&(data.limb.isin([0, 1, 6, 10, 18, 22, 9, 13, 21, 25]))].median()"
   ]
  },
  {
   "cell_type": "code",
   "execution_count": null,
   "metadata": {},
   "outputs": [],
   "source": [
    "data.error[(data.method=='leap')&(data.limb.isin([0, 1, 6, 10, 18, 22, 9, 13, 21, 25]))&(data.error <= 25)].mean()"
   ]
  },
  {
   "cell_type": "code",
   "execution_count": null,
   "metadata": {},
   "outputs": [],
   "source": [
    "data.error[(data.method=='dlc')&(data.limb.isin([0, 1, 6, 10, 18, 22, 9, 13, 21, 25]))&(data.error <= 25)].mean()"
   ]
  },
  {
   "cell_type": "code",
   "execution_count": null,
   "metadata": {},
   "outputs": [],
   "source": [
    "(data.error[(data.method=='leap')&(data.limb.isin([0, 1, 6, 10, 18, 22, 9, 13, 21, 25]))] > 25).mean()"
   ]
  },
  {
   "cell_type": "code",
   "execution_count": null,
   "metadata": {},
   "outputs": [],
   "source": [
    "(data.error[(data.method=='dlc')&(data.limb.isin([0, 1, 6, 10, 18, 22, 9, 13, 21, 25]))] > 25).mean()"
   ]
  }
 ],
 "metadata": {
  "kernelspec": {
   "display_name": "Python 3",
   "language": "python",
   "name": "python3"
  },
  "language_info": {
   "codemirror_mode": {
    "name": "ipython",
    "version": 3
   },
   "file_extension": ".py",
   "mimetype": "text/x-python",
   "name": "python",
   "nbconvert_exporter": "python",
   "pygments_lexer": "ipython3",
   "version": "3.9.5"
  }
 },
 "nbformat": 4,
 "nbformat_minor": 2
}
