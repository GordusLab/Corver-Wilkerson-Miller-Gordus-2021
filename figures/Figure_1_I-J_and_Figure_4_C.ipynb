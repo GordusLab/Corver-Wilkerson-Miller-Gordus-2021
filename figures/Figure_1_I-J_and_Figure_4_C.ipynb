{
 "cells": [
  {
   "cell_type": "code",
   "execution_count": 165,
   "metadata": {},
   "outputs": [],
   "source": [
    "import numpy as np, matplotlib.pyplot as plt, glob, os, pandas as pd, copy, regex as re,\\\n",
    "    skimage.segmentation as segm, networkx as nx, simplification.cutil as simpl, imageio,\\\n",
    "    scipy.ndimage as ndimage, matplotlib.colors as mplcol, matplotlib.cm as cm, json, joblib as jl, itertools\n",
    "from sklearn.neighbors import NearestNeighbors\n",
    "from tqdm import tqdm_notebook as tqdm\n",
    "import shapely.ops, shapely.geometry as geom\n",
    "from skimage.measure import label\n",
    "import matplotlib.patches as mpatches\n",
    "import matplotlib.lines as mlines\n",
    "import matplotlib.pyplot as plt\n",
    "from scipy.stats import mannwhitneyu, wilcoxon\n",
    "from statsmodels.stats.multitest import multipletests"
   ]
  },
  {
   "cell_type": "markdown",
   "metadata": {},
   "source": [
    "### Specify data files to display"
   ]
  },
  {
   "cell_type": "code",
   "execution_count": 3,
   "metadata": {},
   "outputs": [],
   "source": [
    "fnameP = 'rawmvmt_dlc_euclidean-midline_no-abspos_no-vel_00000000010001000000010001_60_16_meansub_scalestd_hipow_tsne_no-pca_perplexity_100_200000_2000_euclidean.filtered2.npy'\n",
    "fnameA = 'rawmvmt_dlc_euclidean_no-abspos_no-vel_00000010001000000010001000_60_16_meansub_scalestd_hipow_tsne_no-pca_perplexity_100_200000_2000_euclidean.filtered2.npy'\n",
    "fnames = [fnameP, fnameA]"
   ]
  },
  {
   "cell_type": "code",
   "execution_count": 4,
   "metadata": {},
   "outputs": [
    {
     "data": {
      "text/plain": [
       "(21, 21)"
      ]
     },
     "execution_count": 4,
     "metadata": {},
     "output_type": "execute_result"
    }
   ],
   "source": [
    "fnames = [[x for x in glob.glob('\\\\\\\\?\\\\Z:\\\\behavior\\\\*\\\\wavelet\\\\{}'.format(fn)) if 'RIG' not in x] for fn in fnames]\n",
    "len(fnames[0]), len(fnames[1])"
   ]
  },
  {
   "cell_type": "code",
   "execution_count": 5,
   "metadata": {},
   "outputs": [],
   "source": [
    "fnameP = 'Y:/wavelet/rawmvmt_dlc_euclidean-midline_no-abspos_no-vel_00000000010001000000010001_60_16_meansub_scalestd/'\n",
    "fnameP+= 'rawmvmt_dlc_euclidean-midline_no-abspos_no-vel_00000000010001000000010001_60_16_meansub_scalestd_hipow_tsne_no-pca_perplexity_100_200000_2000_euclidean.npy'\n",
    "fnameP = '\\\\\\\\?\\\\' + fnameP.replace('/', '\\\\')\n",
    "\n",
    "fnameA = 'Y:/wavelet/rawmvmt_dlc_euclidean_no-abspos_no-vel_00000010001000000010001000_60_16_meansub_scalestd/'\n",
    "fnameA+= 'rawmvmt_dlc_euclidean_no-abspos_no-vel_00000010001000000010001000_60_16_meansub_scalestd_hipow_tsne_no-pca_perplexity_100_200000_2000_euclidean.npy'\n",
    "fnameA = '\\\\\\\\?\\\\' + fnameA.replace('/', '\\\\')\n",
    "\n",
    "fnamesShared = [fnameP, fnameA]\n",
    "\n",
    "fnamesWatershed = [x.replace('.npy', '.smoothed.watershed.npy') for x in fnamesShared]\n",
    "fnamesWatershed = [(x if os.path.exists(x) else None) for x in fnamesWatershed]\n",
    "arrWatershed = [np.load(x) for x in fnamesWatershed]"
   ]
  },
  {
   "cell_type": "code",
   "execution_count": 6,
   "metadata": {},
   "outputs": [
    {
     "data": {
      "text/plain": [
       "(21, 21)"
      ]
     },
     "execution_count": 6,
     "metadata": {},
     "output_type": "execute_result"
    }
   ],
   "source": [
    "# Find recording information\n",
    "fnamesRecordingInfo = [[os.path.join(os.path.dirname(os.path.dirname(x)), \n",
    "    'recording.json') for x in fn] for fn in fnames]\n",
    "\n",
    "def loadJSON(x):\n",
    "    if os.path.exists(x):\n",
    "        with open(x, 'r') as f:\n",
    "            return json.load(f)\n",
    "    else:\n",
    "        return None\n",
    "    \n",
    "recordingInfo = [[loadJSON(x) for x in fn] for fn in fnamesRecordingInfo]\n",
    "\n",
    "# Exclude recordings that are incomplete or invalid\n",
    "useRecording = [[('stages' in ri and (isinstance(ri['stages']['radii'], list) or ri['stages']['radii'] > 0) and \\\n",
    "    ri['web_complete'] and ri['tracking_successful']) for ri in _recordingInfo] \\\n",
    "        for _recordingInfo in recordingInfo]\n",
    "\n",
    "fnames = [[x for x, b in zip(fnames[k], useRecording[k]) if b] for k in range(len(fnames))]\n",
    "recordingInfo = [[x for x, b in zip(recordingInfo[k], useRecording[k]) if b] for k in range(len(fnames))]\n",
    "\n",
    "len(fnames[0]), len(fnames[1])"
   ]
  },
  {
   "cell_type": "code",
   "execution_count": null,
   "metadata": {},
   "outputs": [],
   "source": [
    "# Fill in missing stage information, if necessary\n",
    "for z in tqdm(range(len(recordingInfo)), leave=False):\n",
    "    for i in tqdm(range(len(recordingInfo[z])), leave=False):\n",
    "        s = recordingInfo[z][i]\n",
    "        # Find position/orientation\n",
    "        s['fname'] = glob.glob(os.path.abspath(os.path.join(fnames[z][i], \n",
    "            '../../croprot/*dlc_position_orientation.npy')))[0]\n",
    "\n",
    "        # Does this recording.json file specify stage ranges, or starting points?\n",
    "        for st in s['stages']:\n",
    "            if s['stages'][st] == []:\n",
    "                s['stages'][st] = []\n",
    "            elif not isinstance(s['stages'][st][0], list):\n",
    "                s['stages'][st] = [s['stages'][st], ]\n",
    "        \n",
    "        s['stagesOrg'] = copy.deepcopy(s['stages'])\n",
    "        \n",
    "        # Convert to indices used in analysis\n",
    "        arrIdx = np.load(s['fname'].replace('_position_orientation.npy',\n",
    "                                            '_abs_filt_interp_mvmt_noborder.idx.npy'))\n",
    "        for st in s['stages']:\n",
    "            for k in range(len(s['stages'][st])):\n",
    "                for m in range(2):\n",
    "                    s['stages'][st][k][m] = np.argmin(np.abs(np.argwhere(arrIdx).T[0] - s['stages'][st][k][m]))"
   ]
  },
  {
   "cell_type": "code",
   "execution_count": null,
   "metadata": {},
   "outputs": [],
   "source": [
    "Hs = [[], []]\n",
    "\n",
    "for z in tqdm(range(len(fnames)), leave=False):\n",
    "    for i in tqdm(range(len(fnames[z])), leave=False):\n",
    "        _H = {}\n",
    "        for stage in recordingInfo[z][i]['stages']:\n",
    "            # Load embedded data\n",
    "            arr = np.load(fnames[z][i].replace('.filtered2.npy', '.clusters.npy')).copy()[:,0]\n",
    "            # Determine what frame ranges belong to this stage\n",
    "            idxSS = np.full(arr.shape[0], False, dtype=np.bool)\n",
    "            for i0, i1 in recordingInfo[z][i]['stages'][stage]:\n",
    "                idxSS[i0:i1] = True\n",
    "            # Keep only embedding data in the current stage\n",
    "            arr = arr[idxSS]\n",
    "            arr = arr[~np.isnan(arr)]\n",
    "            # Compute histogram\n",
    "            _H[stage] = arr.copy().astype(int)\n",
    "        Hs[z].append(_H)"
   ]
  },
  {
   "cell_type": "code",
   "execution_count": 9,
   "metadata": {},
   "outputs": [],
   "source": [
    "def toNumber(x):\n",
    "    try:\n",
    "        return int(x)\n",
    "    except:\n",
    "        return -1\n",
    "    \n",
    "def loadLabels(fnameLabels):\n",
    "    txtClusterLabels = ''\n",
    "    with open(fnameLabels, 'r') as f:\n",
    "        txtClusterLabels = f.read()\n",
    "    clusterLabels = {}\n",
    "    curLabel = ''\n",
    "    for line in txtClusterLabels.split('\\n'):\n",
    "        if ':' in line:\n",
    "            curLabel = line[:line.find(':')]\n",
    "        elif len(line.strip()) > 0:\n",
    "            clusterLabels[curLabel] = [toNumber(x) for x in line.split(',') if toNumber(x) >= 0]\n",
    "    return clusterLabels"
   ]
  },
  {
   "cell_type": "code",
   "execution_count": 10,
   "metadata": {},
   "outputs": [],
   "source": [
    "fnameClusterLabelsA = '\\\\\\\\?\\\\Y:\\\\wavelet\\\\clips\\\\rawmvmt_dlc_euclidean_no-abspos_no-vel_00000010001000000010001000_60_16_meansub_scalestd\\\\cluster_names.txt'\n",
    "fnameClusterLabelsP = '\\\\\\\\?\\\\Y:\\\\wavelet\\\\clips\\\\rawmvmt_dlc_euclidean-midline_no-abspos_no-vel_00000000010001000000010001_60_16_meansub_scalestd\\\\cluster_names.txt'\n",
    "fnamesLabels = (fnameClusterLabelsP, fnameClusterLabelsA)\n",
    "\n",
    "clusterLabels = (loadLabels(fnamesLabels[0]), loadLabels(fnamesLabels[1]))\n",
    "clusterLabelsUnique = list(set(list(clusterLabels[0].keys()) + list(clusterLabels[1].keys())))\n",
    "clusterLabelsUnique = [x for x in clusterLabelsUnique if x not in ['noisy',]]"
   ]
  },
  {
   "cell_type": "markdown",
   "metadata": {},
   "source": [
    "### Compute leg sweep statistics"
   ]
  },
  {
   "cell_type": "code",
   "execution_count": 157,
   "metadata": {},
   "outputs": [],
   "source": [
    "ANTERIOR = 1\n",
    "POSTERIOR= 0"
   ]
  },
  {
   "cell_type": "code",
   "execution_count": 158,
   "metadata": {},
   "outputs": [],
   "source": [
    "# Count individual events if they are at least 500 ms apart and not contiguous \n",
    "# (don't count long stretches multiple times)\n",
    "def countEvents(a, cls, minFrameGap = 50):\n",
    "    numEvents = 0\n",
    "    lastEventI = -minFrameGap\n",
    "    eventDuration = 0\n",
    "    for i in range(a.shape[0]):\n",
    "        if a[i] in cls and (i-lastEventI) >= minFrameGap and eventDuration < 12:\n",
    "            eventDuration += 1\n",
    "            if eventDuration == 12: # Reached min-duration threshold of 240 ms\n",
    "                lastEventI = i\n",
    "                numEvents += 1\n",
    "        elif a[i] not in cls:\n",
    "            eventDuration = 0\n",
    "    return numEvents"
   ]
  },
  {
   "cell_type": "code",
   "execution_count": 159,
   "metadata": {},
   "outputs": [],
   "source": [
    "clusterIdsLegSweeps = np.hstack([clusterLabels[ANTERIOR][x] for x in [\n",
    "    'left-leg', 'right-leg', 'one-leg-after-other']]).astype(int)"
   ]
  },
  {
   "cell_type": "code",
   "execution_count": 160,
   "metadata": {},
   "outputs": [
    {
     "data": {
      "application/vnd.jupyter.widget-view+json": {
       "model_id": "",
       "version_major": 2,
       "version_minor": 0
      },
      "text/plain": [
       "HBox(children=(IntProgress(value=0, max=5), HTML(value='')))"
      ]
     },
     "metadata": {},
     "output_type": "display_data"
    },
    {
     "data": {
      "application/vnd.jupyter.widget-view+json": {
       "model_id": "",
       "version_major": 2,
       "version_minor": 0
      },
      "text/plain": [
       "HBox(children=(IntProgress(value=0, max=21), HTML(value='')))"
      ]
     },
     "metadata": {},
     "output_type": "display_data"
    },
    {
     "name": "stderr",
     "output_type": "stream",
     "text": [
      "C:\\Users\\acorver\\.conda\\envs\\spider\\lib\\site-packages\\ipykernel_launcher.py:13: RuntimeWarning: invalid value encountered in greater\n",
      "  del sys.path[0]\n",
      "C:\\Users\\acorver\\.conda\\envs\\spider\\lib\\site-packages\\ipykernel_launcher.py:13: RuntimeWarning: invalid value encountered in less\n",
      "  del sys.path[0]\n"
     ]
    },
    {
     "data": {
      "application/vnd.jupyter.widget-view+json": {
       "model_id": "",
       "version_major": 2,
       "version_minor": 0
      },
      "text/plain": [
       "HBox(children=(IntProgress(value=0, max=21), HTML(value='')))"
      ]
     },
     "metadata": {},
     "output_type": "display_data"
    },
    {
     "data": {
      "application/vnd.jupyter.widget-view+json": {
       "model_id": "",
       "version_major": 2,
       "version_minor": 0
      },
      "text/plain": [
       "HBox(children=(IntProgress(value=0, max=21), HTML(value='')))"
      ]
     },
     "metadata": {},
     "output_type": "display_data"
    },
    {
     "data": {
      "application/vnd.jupyter.widget-view+json": {
       "model_id": "",
       "version_major": 2,
       "version_minor": 0
      },
      "text/plain": [
       "HBox(children=(IntProgress(value=0, max=21), HTML(value='')))"
      ]
     },
     "metadata": {},
     "output_type": "display_data"
    },
    {
     "data": {
      "application/vnd.jupyter.widget-view+json": {
       "model_id": "",
       "version_major": 2,
       "version_minor": 0
      },
      "text/plain": [
       "HBox(children=(IntProgress(value=0, max=21), HTML(value='')))"
      ]
     },
     "metadata": {},
     "output_type": "display_data"
    },
    {
     "name": "stdout",
     "output_type": "stream",
     "text": [
      "\r"
     ]
    }
   ],
   "source": [
    "stageDistances = {}\n",
    "stageDurations = {}\n",
    "PIXEL_TO_CM = 10 / 1000\n",
    "MINTRAVEL_1SEC = 5\n",
    "MAXTRAVEL_1SEC = 500\n",
    "for stage in tqdm(recordingInfo[1][0]['stagesOrg'], leave=False):\n",
    "    for recInfo in tqdm(recordingInfo[1], leave=False):\n",
    "        xy = np.load(recInfo['fname'])[:,0:2]\n",
    "        idx = np.full(xy.shape[0], False, dtype=np.bool)\n",
    "        for t0, t1 in recInfo['stagesOrg'][stage]:\n",
    "            idx[t0:t1] = True\n",
    "        a = np.linalg.norm(np.diff(xy[idx][::50,:], axis=0), axis=1)\n",
    "        a = np.nansum(a[(a > MINTRAVEL_1SEC)&(a < MAXTRAVEL_1SEC)])\n",
    "        if stage not in stageDistances:\n",
    "            stageDistances[stage] = []\n",
    "            stageDurations[stage] = []\n",
    "        stageDistances[stage].append(a * PIXEL_TO_CM)\n",
    "        stageDurations[stage].append(np.sum(idx) * 0.02)"
   ]
  },
  {
   "cell_type": "code",
   "execution_count": 161,
   "metadata": {},
   "outputs": [
    {
     "name": "stdout",
     "output_type": "stream",
     "text": [
      "Leg Sweep Occurrence for Stage protoweb: 435.095 +- 225.677 (events)\n",
      "Leg Sweep Occurrence for Stage protoweb: 1.219 +- 0.303 (events/cm)\n",
      "Leg Sweep Occurrence for Stage protoweb: 0.049 +- 0.015 (events/s) \n",
      "Leg Sweep Occurrence for Stage radii: 645.333 +- 381.600 (events)\n",
      "Leg Sweep Occurrence for Stage radii: 1.292 +- 0.401 (events/cm)\n",
      "Leg Sweep Occurrence for Stage radii: 0.125 +- 0.069 (events/s) \n",
      "Leg Sweep Occurrence for Stage spiral_aux: 119.400 +- 44.624 (events)\n",
      "Leg Sweep Occurrence for Stage spiral_aux: 1.722 +- 0.456 (events/cm)\n",
      "Leg Sweep Occurrence for Stage spiral_aux: 0.332 +- 0.075 (events/s) \n",
      "Leg Sweep Occurrence for Stage spiral_cap: 925.238 +- 448.445 (events)\n",
      "Leg Sweep Occurrence for Stage spiral_cap: 3.065 +- 0.533 (events/cm)\n",
      "Leg Sweep Occurrence for Stage spiral_cap: 0.204 +- 0.051 (events/s) \n",
      "Leg Sweep Occurrence for Stage stabilimentum: 34.667 +- 19.431 (events)\n",
      "Leg Sweep Occurrence for Stage stabilimentum: 8.748 +- 2.935 (events/cm)\n",
      "Leg Sweep Occurrence for Stage stabilimentum: 0.049 +- 0.017 (events/s) \n"
     ]
    }
   ],
   "source": [
    "dataEvents = []\n",
    "\n",
    "for stage in Hs[ANTERIOR][0].keys():\n",
    "    numEvents = np.array([countEvents(x[stage], clusterIdsLegSweeps, 50) for x in Hs[ANTERIOR]])\n",
    "    distances = np.array(stageDistances[stage])\n",
    "    durations = np.array(stageDurations[stage])\n",
    "    eventsPerCM = numEvents[distances > 0] / distances[distances > 0]\n",
    "    eventsPerS  = numEvents[distances > 0] / durations[distances > 0]\n",
    "    \n",
    "    for ev in eventsPerCM:\n",
    "        dataEvents.append((stage, ev))\n",
    "    \n",
    "    print('Leg Sweep Occurrence for Stage {}: {:.3f} +- {:.3f} (events)'.format(\n",
    "        stage, np.nanmean(numEvents[distances > 0]), np.nanstd(numEvents[distances > 0])))\n",
    "    \n",
    "    print('Leg Sweep Occurrence for Stage {}: {:.3f} +- {:.3f} (events/cm)'.format(\n",
    "        stage, np.nanmean(eventsPerCM), np.nanstd(eventsPerCM)))\n",
    "    \n",
    "    print('Leg Sweep Occurrence for Stage {}: {:.3f} +- {:.3f} (events/s) '.format(\n",
    "        stage, np.nanmean(eventsPerS), np.nanstd(eventsPerS)))\n",
    "    \n",
    "tblEvents = pd.DataFrame(dataEvents, columns=['stage', 'events_per_cm'])"
   ]
  },
  {
   "cell_type": "code",
   "execution_count": 180,
   "metadata": {},
   "outputs": [
    {
     "data": {
      "image/png": "[encoded data removed]",
      "text/plain": [
       "<Figure size 288x288 with 1 Axes>"
      ]
     },
     "metadata": {
      "needs_background": "light"
     },
     "output_type": "display_data"
    }
   ],
   "source": [
    "d = tblEvents[(tblEvents.stage != 'stabilimentum')&(tblEvents.events_per_cm != 0)]\n",
    "\n",
    "pairs = list(itertools.combinations(STAGES, 2))\n",
    "pvals = [mannwhitneyu(x=d.events_per_cm[d.stage==p[0]], \n",
    "                      y=d.events_per_cm[d.stage==p[1]], alternative='two-sided').pvalue for p in pairs]\n",
    "pvals = multipletests(pvals, alpha=0.05, method='bonferroni')[1]\n",
    "pairsSignificant = [(p, pv) for p, pv in zip(pairs, pvals) if pv < 0.05]\n",
    "pairsSignificant\n",
    "\n",
    "fig, ax = plt.subplots(1, 1, figsize=(4, 4))\n",
    "\n",
    "for istage, stage in enumerate(STAGES):\n",
    "    y = d.events_per_cm[d.stage==stage]\n",
    "    x0 = np.ones(y.size) * istage + (-0.5 + np.random.random(size=y.size)) * .2\n",
    "    ax.scatter(x0, y, color='#555555', s=5, zorder=20)\n",
    "    bp = ax.boxplot(y, positions=(istage,), whis=(0,100), widths=0.5,\n",
    "               notch=True, bootstrap=10000, zorder=10, patch_artist=True)\n",
    "    for element in ['whiskers', 'fliers', 'means', 'medians', 'caps']:\n",
    "        plt.setp(bp[element], color='#222222')\n",
    "    plt.setp(bp['boxes'], facecolor='#eeeeee')\n",
    "\n",
    "ax.set_xticklabels([{\n",
    "    'protoweb': 'Protoweb',\n",
    "    'radii': 'Radii',\n",
    "    'spiral_aux': 'Auxiliary\\nSpiral',\n",
    "    'spiral_cap': 'Capture\\nSpiral'\n",
    "}[x] for x in STAGES])\n",
    "    \n",
    "[ax.spines[x].set_visible(False) for x in ['top', 'right']]\n",
    "\n",
    "ax.set_ylabel('Events / cm')\n",
    "\n",
    "ax.set_ylim(0, 6.5)\n",
    "ax.set_yticks([0,1,2,3,4,5])\n",
    "\n",
    "lvls = {\n",
    "    ('protoweb', 'spiral_aux'): 3.5,\n",
    "    ('protoweb', 'spiral_cap'): 4.8,\n",
    "    ('radii', 'spiral_aux'): 4.15,\n",
    "    ('radii', 'spiral_cap'): 5.3,\n",
    "    ('spiral_aux', 'spiral_cap'): 5.8,\n",
    "}\n",
    "for p, pv in pairsSignificant:\n",
    "    i0 = STAGES.index(p[0])\n",
    "    i1 = STAGES.index(p[1])\n",
    "    lvl = lvls[p]\n",
    "    ax.plot([i0, i0, i1, i1], [lvl-0.1, lvl, lvl, lvl-0.1], \n",
    "            color='#444444', linewidth=1.2)\n",
    "    ax.text((i0 + i1) * 0.5, lvl * 1.01, \n",
    "        'p = {:.2e}'.format(pv), ha='center', va='bottom', color='#222222')\n",
    "    \n",
    "fig.tight_layout()\n",
    "fig.savefig('C:/Users/acorver/Desktop/paper-figures/Fig_legsweeps.pdf')"
   ]
  },
  {
   "cell_type": "markdown",
   "metadata": {},
   "source": [
    "## Pause duration statistics"
   ]
  },
  {
   "cell_type": "code",
   "execution_count": 15,
   "metadata": {},
   "outputs": [],
   "source": [
    "# Count individual events if they are at least 500 ms apart and not contiguous \n",
    "# (don't count long stretches multiple times)\n",
    "def countEventDurations(a, cls, minFrameGap = 50, minDuration = 12):\n",
    "    eventDurations = []\n",
    "    lastEventI = -minFrameGap\n",
    "    eventDuration = 0\n",
    "    for i in range(a.shape[0]):\n",
    "        if a[i] in cls:\n",
    "            eventDuration += 1\n",
    "            if eventDuration == minDuration: # Reached min-duration threshold of 240 ms\n",
    "                eventDurations.append(eventDuration)\n",
    "        elif a[i] not in cls:\n",
    "            if eventDuration >= minDuration:\n",
    "                eventDurations[-1] = eventDuration\n",
    "            eventDuration = 0\n",
    "    if eventDuration >= minDuration:\n",
    "        eventDurations[-1] = eventDuration    \n",
    "    return eventDurations"
   ]
  },
  {
   "cell_type": "code",
   "execution_count": 16,
   "metadata": {},
   "outputs": [],
   "source": [
    "def loadIdxAVI(fname):\n",
    "    # Get index\n",
    "    fnameIdx = glob.glob(os.path.abspath(os.path.join(os.path.dirname(fname), \n",
    "        '../croprot/*_dlc_abs_filt_interp_mvmt_noborder.idx.npy')))[0]\n",
    "    idx = np.load(fnameIdx)\n",
    "    # Load AVI mapping\n",
    "    suffix = 'avimapping2.npy'\n",
    "    fnameAVImapping = glob.glob(os.path.abspath(os.path.join(os.path.dirname(\n",
    "        fname), '../raw/*_{}'.format(suffix))))[0]\n",
    "    aviMapping = np.load(fnameAVImapping)\n",
    "    # Already exists?\n",
    "    lensAVI = []\n",
    "    aviIDs = np.sort([int(re.search('-([0-9]*)\\\\.avi', x).group(1)) for x in glob.glob(\n",
    "        fnameAVImapping.replace('_{}'.format(suffix), '*.avi'))])\n",
    "    i0 = aviIDs[aviMapping[:,1].min()]\n",
    "    i1 = aviIDs[aviMapping[:,1].max()]\n",
    "    print('Using movie chunks {} -> {}'.format(i0, i1))\n",
    "    for aviID in range(i0, i1+1):\n",
    "        fnameAVI = fnameAVImapping.replace('_{}'.format(suffix), '-{:04}.avi').format(aviID)\n",
    "        if not os.path.exists(fnameAVI):\n",
    "            fnameAVI = fnameAVImapping.replace('_{}'.format(suffix), '-{}.avi').format(aviID)\n",
    "        if not os.path.exists(fnameAVI):\n",
    "            lensAVI.append(lensAVI[-1])\n",
    "        else:\n",
    "            r = imageio.get_reader(fnameAVI)\n",
    "            lensAVI.append(len(r))\n",
    "            r.close()\n",
    "            del r\n",
    "\n",
    "    # Map recording indices to AVI indices\n",
    "    tmp = pd.DataFrame(aviMapping, columns=['idx', 'avi', 'a', 'diff', 'lens'])\n",
    "    tmp = tmp.groupby('avi').count()\n",
    "    chunkIDused = tmp.index[tmp.idx >= 4]\n",
    "\n",
    "    # Attribute each index to a chunk... Start with NaNs, then fill in\n",
    "    chunkIDs = np.full(idx.size, np.nan, dtype=np.float64)\n",
    "    for chid in np.unique(aviMapping[:,1]):\n",
    "        if chid in chunkIDused:\n",
    "            s0 = np.min(aviMapping[aviMapping[:,1]==chid,0])\n",
    "            s1 = np.max(aviMapping[aviMapping[:,1]==chid,0])\n",
    "            chunkIDs[min(chunkIDs.size-1, s0)] = chid\n",
    "            chunkIDs[min(chunkIDs.size-1, s1)] = chid\n",
    "    while np.any(np.isnan(chunkIDs)):\n",
    "        chunkIDs = pd.DataFrame(chunkIDs).fillna(\n",
    "            method='ffill', limit=100).fillna(method='bfill', limit=100).values[:,0]\n",
    "    chunkIDs = chunkIDs.astype(int)\n",
    "    # Whenever there's an avi chunk skip, add the left-out chunk sizes\n",
    "    idxAVI = np.zeros(chunkIDs.size, dtype=int)\n",
    "    for i in tqdm(range(1, chunkIDs.size), leave=False):\n",
    "        idxAVI[i] = idxAVI[i-1] + 1 + np.sum([lensAVI[x] for x in range(chunkIDs[i-1], chunkIDs[i]-1)])\n",
    "    _idxAVI = np.full(np.max(idxAVI)+1, False, dtype=np.bool)\n",
    "    _idxAVI[idxAVI] = True\n",
    "    idxAVI = _idxAVI\n",
    "    return idxAVI"
   ]
  },
  {
   "cell_type": "code",
   "execution_count": 17,
   "metadata": {},
   "outputs": [],
   "source": [
    "# Load AVI indices (computed in )\n",
    "idxsAVI = jl.Parallel(n_jobs=22)(jl.delayed(loadIdxAVI)(fn) for fn in fnames[0])"
   ]
  },
  {
   "cell_type": "code",
   "execution_count": null,
   "metadata": {},
   "outputs": [],
   "source": [
    "dataPauses = []\n",
    "for stage in tqdm(Hs[ANTERIOR][0].keys(), leave=False):\n",
    "    for recID in tqdm(range(len(Hs[ANTERIOR])), leave=False):\n",
    "        # Load the index of stationary frames\n",
    "        _isStationary = np.logical_not(np.load(recordingInfo[1][recID]['fname'].replace(\n",
    "            '_dlc_position_orientation.npy', '_dlc_abs_filt_interp_mvmt.idx.npy')))\n",
    "        # Load the index of embedded frames\n",
    "        _isEmbedded = np.logical_not(np.load(recordingInfo[1][recID]['fname'].replace(\n",
    "            '_dlc_position_orientation.npy', '_dlc_abs_filt_interp_mvmt_noborder.idx.npy')))\n",
    "        # is canonical?\n",
    "        _iscanonical = max([len(recordingInfo[1][recID]['stagesOrg'][st]) for \\\n",
    "            st in recordingInfo[1][recID]['stagesOrg']]) == 1\n",
    "        # Build index\n",
    "        for stagerep, (t0, t1) in enumerate(recordingInfo[1][recID]['stagesOrg'][stage]):\n",
    "            idx = np.full(_isEmbedded.shape[0], False, dtype=np.bool)\n",
    "            idx[t0:t1] = True\n",
    "            isStationary = _isStationary[idx].copy()\n",
    "            isEmbedded = _isEmbedded[idx].copy()\n",
    "            # Determine what frames are stationary according to embedding\n",
    "            isStationaryInEmbedding = np.isin(Hs[ANTERIOR][recID][stage], \n",
    "                clusterLabels[ANTERIOR]['stationary']) | \\\n",
    "                np.isin(Hs[ANTERIOR][recID][stage], clusterLabels[POSTERIOR]['stationary'])\n",
    "            # Incorporate these embedding-stationary frames into the larger is-stationary index\n",
    "            s = min(np.sum(~isEmbedded), isStationaryInEmbedding.size)\n",
    "            isStationary[np.argwhere(~isEmbedded)[:s,0]] = isStationaryInEmbedding[:s]\n",
    "            # Span brief interruptions (<=12 frames)\n",
    "            isStationary = ndimage.binary_erosion(ndimage.binary_dilation(\n",
    "                isStationary, iterations=12), iterations=12)\n",
    "            # Now extrapolate to AVI\n",
    "            _idxStageAVI = np.argwhere(idxsAVI[recID])[idx, 0]\n",
    "            isStationaryWithAVI = np.full(_idxStageAVI.max()+1, True, dtype=np.bool)\n",
    "            isStationaryWithAVI[_idxStageAVI] = isStationary\n",
    "            isStationaryWithAVI = isStationaryWithAVI[_idxStageAVI.min():]\n",
    "            # Now subset to 10% - 90% of distance traveled to exclude pauses at boundary\n",
    "            # Measure cumulative distance traveled...\n",
    "            fnameXY = glob.glob(os.path.abspath(os.path.join(os.path.dirname(fnames[0][recID]), \n",
    "                '../croprot/*_dlc_position_orientation.npy')))[0]\n",
    "            arrXY = np.load(fnameXY)[idx, 0:2]\n",
    "            \n",
    "            vels = pd.DataFrame(np.linalg.norm(arrXY - pd.DataFrame(\n",
    "                arrXY).shift(-50).values, axis=1)).fillna(method='ffill').fillna(method='bfill').values[:,0]\n",
    "            vels[vels < 5] = 0\n",
    "\n",
    "            _s0 = np.argwhere(np.cumsum(vels) >= 0.10 * np.max(np.cumsum(vels)))[0,0]\n",
    "            _s1 = np.argwhere(np.cumsum(vels) <= 0.90 * np.max(np.cumsum(vels)))[-1,0]\n",
    "\n",
    "            s0 = (_idxStageAVI - _idxStageAVI.min())[_s0]\n",
    "            s1 = (_idxStageAVI - _idxStageAVI.min())[_s1]\n",
    "            \n",
    "            pc0AVI  = _idxStageAVI[0]\n",
    "            pc10AVI = _idxStageAVI[_s0]\n",
    "            pc90AVI = _idxStageAVI[_s1]\n",
    "            pc100AVI= _idxStageAVI[-1]\n",
    "            \n",
    "            # Extract relevant info\n",
    "            stageRepStart = np.min(_idxStageAVI)\n",
    "            stageRepEnd = np.max(_idxStageAVI)\n",
    "            stageRepDuration = t1 - t0\n",
    "\n",
    "            for _type in ['mid', 'pre', 'post']:\n",
    "                s0s1 = np.full(isStationaryWithAVI.size, False, dtype=np.bool)\n",
    "                if _type == 'mid':\n",
    "                    s0s1[s0:s1] = True\n",
    "                elif _type == 'pre':\n",
    "                    s0s1[:s0] = True\n",
    "                else:\n",
    "                    s0s1[s1:] = True\n",
    "                    \n",
    "                # Count durations\n",
    "                eventDurations = np.array(countEventDurations(isStationaryWithAVI[s0s1], [True,], 12))\n",
    "                # Store\n",
    "                for ed in eventDurations:\n",
    "                    dataPauses.append((stage, recID, stagerep, ed, stageRepStart, \n",
    "                                       stageRepEnd, stageRepDuration, _iscanonical, \n",
    "                                       _type, pc0AVI, pc10AVI, pc90AVI, pc100AVI))"
   ]
  },
  {
   "cell_type": "code",
   "execution_count": 135,
   "metadata": {},
   "outputs": [
    {
     "data": {
      "text/plain": [
       "(32758, 13)"
      ]
     },
     "execution_count": 135,
     "metadata": {},
     "output_type": "execute_result"
    }
   ],
   "source": [
    "dataPauses = pd.DataFrame(dataPauses, columns=[\n",
    "    'stage', 'recid', 'stagerep', 'pause', 'stage_start', 'stage_end', \n",
    "    'stage_duration', 'canonical', 'window', 'pc0avi', 'pc10avi', 'pc90avi', 'pc100avi'])\n",
    "dataPauses.shape"
   ]
  },
  {
   "cell_type": "code",
   "execution_count": 136,
   "metadata": {},
   "outputs": [],
   "source": [
    "# Add recording name information\n",
    "dataPauses.loc[:,'recname'] = [\n",
    "    re.search('/behavior/([^/]*)/?', fnames[0][i].replace(\n",
    "        '\\\\', '/')).group(1) for i in dataPauses.recid]\n",
    "\n",
    "# Export for use elsewhere\n",
    "dataPauses.to_pickle('C:/Users/acorver/Desktop/paper-figures/table_pausestats.pickle')"
   ]
  },
  {
   "cell_type": "code",
   "execution_count": 80,
   "metadata": {},
   "outputs": [
    {
     "data": {
      "text/plain": [
       "['protoweb', 'radii', 'spiral_aux', 'spiral_cap', 'stabilimentum']"
      ]
     },
     "execution_count": 80,
     "metadata": {},
     "output_type": "execute_result"
    }
   ],
   "source": [
    "STAGES = ['protoweb', 'radii', 'spiral_aux', 'spiral_cap', 'stabilimentum'] # dataPauses.stage.unique()\n",
    "STAGES"
   ]
  },
  {
   "cell_type": "code",
   "execution_count": 81,
   "metadata": {},
   "outputs": [],
   "source": [
    "# Source: http://www.jtrive.com/the-empirical-bootstrap-for-confidence-intervals-in-python.html\n",
    "def bootstrap(data, n=1000, func=np.nanmean):\n",
    "    \"\"\"\n",
    "    Generate `n` bootstrap samples, evaluating `func`\n",
    "    at each resampling. `bootstrap` returns a function,\n",
    "    which can be called to obtain confidence intervals\n",
    "    of interest.\n",
    "    \"\"\"\n",
    "    simulations = list()\n",
    "    sample_size = len(data)\n",
    "    xbar_init = np.mean(data)\n",
    "    for c in range(n):\n",
    "        itersample = np.random.choice(data, size=sample_size, replace=True)\n",
    "        simulations.append(func(itersample))\n",
    "    simulations.sort()\n",
    "    def ci(p):\n",
    "        \"\"\"\n",
    "        Return 2-sided symmetric confidence interval specified\n",
    "        by p.\n",
    "        \"\"\"\n",
    "        u_pval = (1+p)/2.\n",
    "        l_pval = (1-u_pval)\n",
    "        l_indx = int(np.floor(n*l_pval))\n",
    "        u_indx = int(np.floor(n*u_pval))\n",
    "        return(simulations[l_indx],simulations[u_indx])\n",
    "    return(ci)"
   ]
  },
  {
   "cell_type": "code",
   "execution_count": 83,
   "metadata": {},
   "outputs": [],
   "source": [
    "dataPausesOrg = dataPauses.copy()"
   ]
  },
  {
   "cell_type": "code",
   "execution_count": 112,
   "metadata": {},
   "outputs": [],
   "source": [
    "# Now relabel pre-radii as post-protoweb, etc.\n",
    "dataPauses = dataPausesOrg[(dataPausesOrg.window != 'mid')&(dataPausesOrg.stagerep == 0)].copy()"
   ]
  },
  {
   "cell_type": "code",
   "execution_count": 113,
   "metadata": {},
   "outputs": [],
   "source": [
    "_idx = dataPauses.index[(dataPauses.stage=='radii')&(dataPauses.window=='pre')]\n",
    "dataPauses.loc[_idx, 'stage'] = 'protoweb'\n",
    "dataPauses.loc[_idx, 'window'] = 'post'\n",
    "dataPauses = dataPauses[(dataPauses.stage!='protoweb')|(dataPauses.window=='pre')]\n",
    "\n",
    "_idx = dataPauses.index[(dataPauses.stage=='spiral_aux')&(dataPauses.window=='pre')]\n",
    "dataPauses.loc[_idx, 'stage'] = 'radii'\n",
    "dataPauses.loc[_idx, 'window'] = 'post'\n",
    "\n",
    "_idx = dataPauses.index[(dataPauses.stage=='spiral_cap')&(dataPauses.window=='pre')]\n",
    "dataPauses.loc[_idx, 'stage'] = 'spiral_aux'\n",
    "dataPauses.loc[_idx, 'window'] = 'post'\n",
    "\n",
    "_idx = dataPauses.index[(dataPauses.stage=='stabilimentum')&(dataPauses.window=='pre')]\n",
    "dataPauses.loc[_idx, 'stage'] = 'spiral_cap'\n",
    "dataPauses.loc[_idx, 'window'] = 'post'"
   ]
  },
  {
   "cell_type": "code",
   "execution_count": 114,
   "metadata": {},
   "outputs": [],
   "source": [
    "includeMaxima = False"
   ]
  },
  {
   "cell_type": "code",
   "execution_count": null,
   "metadata": {},
   "outputs": [],
   "source": [
    "for clip in [False,]: # [True, False]:\n",
    "    fig, ax = plt.subplots(1, 6, figsize=(18, 3))\n",
    "\n",
    "    STAGES = ['protoweb', 'radii', 'spiral_aux', 'spiral_cap']\n",
    "    \n",
    "    dataPauses2 = dataPauses.copy()\n",
    "    if clip:\n",
    "        dataPauses2.pause.clip(upper=50000, inplace=True)\n",
    "    for istage, stage in enumerate(STAGES):\n",
    "        for can in [True, False]:\n",
    "            print(stage, can)\n",
    "            hists = [np.histogram(np.log10(dataPauses2[(dataPauses2.stage==stage)&(\n",
    "                dataPauses2.recid==recid)&(dataPauses2.stagerep==0)].pause.values * 0.02), range=(0, 3), bins=30) for \\\n",
    "                    recid in dataPauses2.recid[dataPauses2.canonical == can].unique()]\n",
    "            bins = hists[0][1]\n",
    "            bins = 0.5 * bins[1:] + 0.5 * bins[:-1]\n",
    "            hists = np.array([x[0] for x in hists])\n",
    "            ci = np.array([bootstrap(hists[:,i], 5000, np.nanmedian)(0.95) for i in range(hists.shape[1])])\n",
    "            ciMinmax = np.array([(np.nanpercentile(hists[:,i], 0), \n",
    "                                  np.nanpercentile(hists[:,i], 50), \n",
    "                                  np.nanpercentile(hists[:,i], 100)) for i in range(hists.shape[1])])\n",
    "            #ci = np.log10(1+ci)\n",
    "            #ciMinmax = np.log10(1+ciMinmax)\n",
    "            ax[istage].fill_between(bins, ci[:,0], ci[:,1], color='#888888' if can else '#ff8888', alpha=0.25)\n",
    "            if includeMaxima:\n",
    "                ax[istage].plot(bins, ciMinmax[:,0], color='#888888' if can else '#ff8888', linestyle='--')\n",
    "                ax[istage].plot(bins, ciMinmax[:,2], color='#888888' if can else '#ff8888', linestyle='--')\n",
    "            \n",
    "            ax[istage].plot(bins, ciMinmax[:,1], color='#888888' if can else '#ff8888')\n",
    "            \n",
    "            #for i in range(hists.shape[0]):\n",
    "            #    ax[istage].plot(bins, np.log10(1+hists[i, :]), color='#888888' if can else '#ff8888')\n",
    "\n",
    "        if istage != 0:\n",
    "            pass\n",
    "            #ax[istage].spines[\"left\"].set_visible(False)\n",
    "            #ax[istage].get_yaxis().set_visible(False)\n",
    "        else:\n",
    "            ax[istage].set_ylabel('Pause Bout Occurrences')\n",
    "        ax[istage].spines[\"top\"].set_visible(False)\n",
    "        ax[istage].spines[\"right\"].set_visible(False)\n",
    "        ax[istage].spines[\"bottom\"].set_visible(False)\n",
    "        if istage == 1:\n",
    "            ax[istage].set_xlabel('{}Pause Bout Duration (seconds)'.format(\n",
    "                ''.join([' ' for i in range(50)])))\n",
    "        \n",
    "        ax[istage].set_ylim(0, [20, 16, 1, 30][istage])\n",
    "        \n",
    "        ax[istage].set_xlim(0, 3)\n",
    "        ax[istage].set_xticks([0, 1, 2, 3])\n",
    "        ax[istage].set_xticklabels(['1', '10', '100', '1000'])\n",
    "        ax[istage].set_title(['Protoweb', 'Radii', 'Auxiliary Spiral', 'Capture Spiral'][istage])\n",
    "    \n",
    "    # Legend\n",
    "    L1 = mlines.Line2D([0, 1], [0, 0], color='#ff8888', linestyle='--', \n",
    "                       label='Minimum and Maximum Pause\\nBout Occurrence (Non-Canonical)\\n')\n",
    "    L2 = mlines.Line2D([0, 1], [0, 0], color='#888888', linestyle='--', \n",
    "                       label='Minimum and MaximumPause\\nBout Occurrence (Canonical)\\n')\n",
    "    L3 = mlines.Line2D([0, 1], [0, 0], color='#ff8888', linestyle='-', \n",
    "                       label='Median Pause Bout Occurrence (Non-Canonical)\\n')\n",
    "    L4 = mlines.Line2D([0, 1], [0, 0], color='#888888', linestyle='-', \n",
    "                       label='Median Pause Bout Occurrence (Canonical)\\n')\n",
    "    L5 = mpatches.Patch(color='#ff8888', alpha=0.25, label=\n",
    "                        '95% Confidence Interval of Median\\nPause Bout Occurrence (Non-Canonical)\\n')\n",
    "    L6 = mpatches.Patch(color='#888888', alpha=0.25, label=\n",
    "                        '95% Confidence Interval of Median\\nPause Bout Occurrence (Canonical)')\n",
    "    ax[-1].legend(handles=([L1, L2] if includeMaxima else []) + [L3, L4, L5, L6], frameon=False)\n",
    "    ax[-1].set_axis_off()\n",
    "    ax[-2].set_axis_off()\n",
    "\n",
    "    #fig.savefig('C:/Users/acorver/Desktop/paper-figures/Fig_pause_duration_distribution_1{}_10-90.pdf'.format(\n",
    "    #    '_clip' if clip else ''))"
   ]
  },
  {
   "cell_type": "code",
   "execution_count": null,
   "metadata": {},
   "outputs": [],
   "source": [
    "for clip in [True, False]:\n",
    "    fig, ax = plt.subplots(1, 6, figsize=(18, 3))\n",
    "\n",
    "    STAGES = ['protoweb', 'radii', 'spiral_aux', 'spiral_cap']\n",
    "\n",
    "    dataPauses2 = dataPauses.copy()\n",
    "    dataPauses2.loc[:,'pause_rel'] = dataPauses2.pause / dataPauses2.stage_duration\n",
    "    if clip:\n",
    "        dataPauses2.pause_rel.clip(upper=0.1, inplace=True)\n",
    "    \n",
    "    for istage, stage in enumerate(STAGES):\n",
    "        for can in [True, False]:\n",
    "            hists = [np.histogram(np.log10(dataPauses2[(dataPauses2.stage==stage)&(\n",
    "                dataPauses2.recid==recid)&(dataPauses2.stagerep==0)].pause_rel.values), range=(-5, -1), bins=40) for \\\n",
    "                    recid in dataPauses2.recid[dataPauses2.canonical == can].unique()]\n",
    "            bins = hists[0][1]\n",
    "            bins = 0.5 * bins[1:] + 0.5 * bins[:-1]\n",
    "            hists = np.array([x[0] for x in hists])\n",
    "\n",
    "            ci = np.array([bootstrap(hists[:,i], 1000, np.nanmedian)(0.95) for i in range(hists.shape[1])])\n",
    "            ciMinmax = np.array([(np.nanpercentile(hists[:,i], 0), \n",
    "                                  np.nanpercentile(hists[:,i], 50), \n",
    "                                  np.nanpercentile(hists[:,i], 100)) for i in range(hists.shape[1])])\n",
    "            #ci = np.log10(1+ci)\n",
    "            #ciMinmax = np.log10(1+ciMinmax)\n",
    "            ax[istage].fill_between(bins, ci[:,0], ci[:,1], color='#888888' if can else '#ff8888', alpha=0.25)\n",
    "            if includeMaxima:\n",
    "                ax[istage].plot(bins, ciMinmax[:,0], color='#888888' if can else '#ff8888', linestyle='--')\n",
    "                ax[istage].plot(bins, ciMinmax[:,2], color='#888888' if can else '#ff8888', linestyle='--')\n",
    "\n",
    "            ax[istage].plot(bins, ciMinmax[:,1], color='#888888' if can else '#ff8888')\n",
    "\n",
    "            #for i in range(hists.shape[0]):\n",
    "            #    ax[istage].plot(bins, np.log10(1+hists[i, :]), color='#888888' if can else '#ff8888')\n",
    "\n",
    "        if istage != 0:\n",
    "            pass\n",
    "            #ax[istage].spines[\"left\"].set_visible(False)\n",
    "            #ax[istage].get_yaxis().set_visible(False)\n",
    "        else:\n",
    "            ax[istage].set_ylabel('Pause Bout Occurrences')\n",
    "        ax[istage].spines[\"top\"].set_visible(False)\n",
    "        ax[istage].spines[\"right\"].set_visible(False)\n",
    "        ax[istage].spines[\"bottom\"].set_visible(False)\n",
    "        if istage == 1:\n",
    "            ax[istage].set_xlabel('{}Pause Bout Duration (% of Stage Duration)'.format(\n",
    "                ''.join([' ' for i in range(50)])))\n",
    "\n",
    "        ax[istage].set_ylim(0, [70, 70, 12, 100][istage])\n",
    "\n",
    "        ax[istage].set_xticks([-5, -4, -3, -2, -1])\n",
    "        ax[istage].set_xticklabels(['0.001%', '0.01%', '0.1%', '1%', '10%'], rotation=45)\n",
    "        ax[istage].set_title(['Protoweb', 'Radii', 'Auxiliary Spiral', 'Capture Spiral'][istage])\n",
    "\n",
    "    # Legend\n",
    "    L1 = mlines.Line2D([0, 1], [0, 0], color='#ff8888', linestyle='--', \n",
    "                       label='Minimum and Maximum Pause\\nBout Occurrence (Non-Canonical)\\n')\n",
    "    L2 = mlines.Line2D([0, 1], [0, 0], color='#888888', linestyle='--', \n",
    "                       label='Minimum and MaximumPause\\nBout Occurrence (Canonical)\\n')\n",
    "    L3 = mlines.Line2D([0, 1], [0, 0], color='#ff8888', linestyle='-', \n",
    "                       label='Median Pause Bout Occurrence (Non-Canonical)\\n')\n",
    "    L4 = mlines.Line2D([0, 1], [0, 0], color='#888888', linestyle='-', \n",
    "                       label='Median Pause Bout Occurrence (Canonical)\\n')\n",
    "    L5 = mpatches.Patch(color='#ff8888', alpha=0.25, label=\n",
    "                        '95% Confidence Interval of Median\\nPause Bout Occurrence (Non-Canonical)\\n')\n",
    "    L6 = mpatches.Patch(color='#888888', alpha=0.25, label=\n",
    "                        '95% Confidence Interval of Median\\nPause Bout Occurrence (Canonical)')\n",
    "    ax[-1].legend(handles=([L1, L2] if includeMaxima else []) + [L3, L4, L5, L6], frameon=False)\n",
    "    ax[-1].set_axis_off()\n",
    "    ax[-2].set_axis_off()\n",
    "\n",
    "    fig.savefig('C:/Users/acorver/Desktop/paper-figures/Fig_pause_duration_distribution_2{}.pdf'.format(\n",
    "        '_clip' if clip else ''))"
   ]
  },
  {
   "cell_type": "code",
   "execution_count": 106,
   "metadata": {},
   "outputs": [],
   "source": [
    "dataPausesTotal = dataPauses.loc[(dataPauses.stagerep==0)&(dataPauses.pause <= 50 * 60), [\n",
    "    'stage', 'recid', 'canonical', 'pause']].groupby(['stage', 'recid', 'canonical']).sum().reset_index()"
   ]
  },
  {
   "cell_type": "code",
   "execution_count": 152,
   "metadata": {},
   "outputs": [
    {
     "data": {
      "text/plain": [
       "8.168811111111111"
      ]
     },
     "execution_count": 152,
     "metadata": {},
     "output_type": "execute_result"
    }
   ],
   "source": [
    "dataPauses.pause.max() / (3600 * 50)"
   ]
  },
  {
   "cell_type": "code",
   "execution_count": null,
   "metadata": {},
   "outputs": [],
   "source": [
    "fig, ax = plt.subplots(1, 4, figsize=(8, 4))\n",
    "\n",
    "for istage, stage in enumerate(STAGES):\n",
    "    y0 = dataPausesTotal.pause[(dataPausesTotal.stage==stage)&(\n",
    "        dataPausesTotal.canonical)] / (50 * 3600)\n",
    "    bp = ax[istage].boxplot(y0, positions=[1,], \n",
    "        notch=True, bootstrap=1000, whis=(0,100), widths=(0.5,), patch_artist=True)\n",
    "    for element in ['whiskers', 'fliers', 'means', 'medians', 'caps']:\n",
    "        plt.setp(bp[element], color='#222222')\n",
    "    plt.setp(bp['boxes'], facecolor='#eeeeee')\n",
    "    \n",
    "    x0 = np.ones(y0.size) * 1 + (np.random.random(size=y0.size) - 0.5) * 0.5\n",
    "    ax[istage].scatter(x0, y0, s=5, color='#000000', zorder=50)\n",
    "    \n",
    "    y1 = dataPausesTotal.pause[(dataPausesTotal.stage==stage)&(\n",
    "        ~dataPausesTotal.canonical)] / (50 * 3600)\n",
    "    bp = ax[istage].boxplot(y1, positions=[2,], \n",
    "        notch=True, bootstrap=1000, whis=(0,100), widths=(0.5,), patch_artist=True)\n",
    "    for element in ['whiskers', 'fliers', 'means', 'medians', 'caps']:\n",
    "        plt.setp(bp[element], color='#222222')\n",
    "    plt.setp(bp['boxes'], facecolor='#eeeeee')\n",
    "    \n",
    "    x1 = np.ones(y1.size) * 2 + (np.random.random(size=y1.size) - 0.5) * 0.5\n",
    "    ax[istage].scatter(x1, y1, s=5, color='#000000', zorder=50)\n",
    "    \n",
    "    if istage == 0:\n",
    "        ax[istage].set_ylabel('Total Pause\\nDuration (Hours)')\n",
    "    ax[istage].spines[\"top\"].set_visible(False)\n",
    "    ax[istage].spines[\"right\"].set_visible(False)\n",
    "    ax[istage].spines[\"bottom\"].set_visible(False)\n",
    "    ax[istage].set_xticklabels(['Canonical', 'Non-\\nCanonical'], rotation=45)\n",
    "    \n",
    "    ax[istage].set_title(['Protoweb', 'Radii', 'Auxiliary Spiral', 'Capture Spiral'][istage])\n",
    "    \n",
    "    xticks = [1, 2]\n",
    "    ymax = max(np.max(y0), np.max(y1))\n",
    "    ax[istage].set_ylim(0, ymax * 1.2)\n",
    "    \n",
    "    # Permutation-test p-value\n",
    "    tmp = dataPausesTotal[(dataPausesTotal.stage==stage)].copy().reset_index()\n",
    "    diffs = []\n",
    "    for i in tqdm(range(10001), leave=False):\n",
    "        #diffs.append(np.nanmean(tmp.pause[tmp.canonical]) - np.nanmean(tmp.pause[~tmp.canonical]))\n",
    "        diffs.append(np.nanmedian(tmp.pause[tmp.canonical]) - np.nanmedian(tmp.pause[~tmp.canonical]))\n",
    "        tmp.canonical = np.random.permutation(tmp.canonical)\n",
    "\n",
    "    d0 = diffs[0]\n",
    "    d = diffs[1:]\n",
    "    pval = np.mean(np.abs(d) >= abs(d0))\n",
    "    \n",
    "    #pval = mannwhitneyu(y0, y1, alternative='two-sided').pvalue\n",
    "    \n",
    "    ax[istage].plot([xticks[0], xticks[0], xticks[1], xticks[1]], \n",
    "        [ymax * 1.02, ymax * 1.04, ymax * 1.04, ymax * 1.02], lw=1.5, c='#222222')\n",
    "    ax[istage].text((xticks[0]+xticks[1])*.5, ymax*1.08, \n",
    "        'p = {:.3f}'.format(pval), ha='center', va='bottom', color='#222222')\n",
    "    \n",
    "fig.suptitle('Permutation Test (bouts <= 1 minute)')\n",
    "fig.tight_layout(rect=[0, 0, 1.0, 0.9])\n",
    "#fig.savefig('C:/Users/acorver/Desktop/paper-figures/Fig_pauses_canonical_vs_noncanonical.pdf')"
   ]
  },
  {
   "cell_type": "code",
   "execution_count": null,
   "metadata": {},
   "outputs": [],
   "source": [
    "fig, ax = plt.subplots(1, 4, figsize=(8, 4))\n",
    "\n",
    "for istage, stage in enumerate(STAGES):\n",
    "    y0 = dataPausesTotal.pause[(dataPausesTotal.stage==stage)&(\n",
    "        dataPausesTotal.canonical)] / (50 * 3600)\n",
    "    bp = ax[istage].boxplot(y0, positions=[1,], \n",
    "        notch=True, bootstrap=1000, whis=(0,100), widths=(0.5,), patch_artist=True)\n",
    "    for element in ['whiskers', 'fliers', 'means', 'medians', 'caps']:\n",
    "        plt.setp(bp[element], color='#222222')\n",
    "    plt.setp(bp['boxes'], facecolor='#eeeeee')\n",
    "    \n",
    "    x0 = np.ones(y0.size) * 1 + (np.random.random(size=y0.size) - 0.5) * 0.5\n",
    "    ax[istage].scatter(x0, y0, s=5, color='#000000', zorder=50)\n",
    "    \n",
    "    y1 = dataPausesTotal.pause[(dataPausesTotal.stage==stage)&(\n",
    "        ~dataPausesTotal.canonical)] / (50 * 3600)\n",
    "    bp = ax[istage].boxplot(y1, positions=[2,], \n",
    "        notch=True, bootstrap=1000, whis=(0,100), widths=(0.5,), patch_artist=True)\n",
    "    for element in ['whiskers', 'fliers', 'means', 'medians', 'caps']:\n",
    "        plt.setp(bp[element], color='#222222')\n",
    "    plt.setp(bp['boxes'], facecolor='#eeeeee')\n",
    "    \n",
    "    x1 = np.ones(y1.size) * 2 + (np.random.random(size=y1.size) - 0.5) * 0.5\n",
    "    ax[istage].scatter(x1, y1, s=5, color='#000000', zorder=50)\n",
    "    \n",
    "    if istage == 0:\n",
    "        ax[istage].set_ylabel('Total Pause\\nDuration (Hours)')\n",
    "    ax[istage].spines[\"top\"].set_visible(False)\n",
    "    ax[istage].spines[\"right\"].set_visible(False)\n",
    "    ax[istage].spines[\"bottom\"].set_visible(False)\n",
    "    ax[istage].set_xticklabels(['Canonical', 'Non-\\nCanonical'], rotation=45)\n",
    "    \n",
    "    ax[istage].set_title(['Protoweb', 'Radii', 'Auxiliary Spiral', 'Capture Spiral'][istage])\n",
    "    \n",
    "    xticks = [1, 2]\n",
    "    ymax = max(np.max(y0), np.max(y1))\n",
    "    ax[istage].set_ylim(0, ymax * 1.2)\n",
    "    \n",
    "    # Permutation-test p-value\n",
    "    tmp = dataPausesTotal[(dataPausesTotal.stage==stage)].copy().reset_index()\n",
    "    diffs = []\n",
    "    for i in tqdm(range(10001), leave=False):\n",
    "        #diffs.append(np.nanmean(tmp.pause[tmp.canonical]) - np.nanmean(tmp.pause[~tmp.canonical]))\n",
    "        diffs.append(np.nanmedian(tmp.pause[tmp.canonical]) - np.nanmedian(tmp.pause[~tmp.canonical]))\n",
    "        tmp.canonical = np.random.permutation(tmp.canonical)\n",
    "\n",
    "    d0 = diffs[0]\n",
    "    d = diffs[1:]\n",
    "    pval = np.mean(np.abs(d) >= abs(d0))\n",
    "    \n",
    "    #pval = mannwhitneyu(y0, y1, alternative='two-sided').pvalue\n",
    "    \n",
    "    ax[istage].plot([xticks[0], xticks[0], xticks[1], xticks[1]], \n",
    "                                [ymax * 1.02, ymax * 1.04, ymax * 1.04, ymax * 1.02], lw=1.5, c='#222222')\n",
    "    ax[istage].text((xticks[0]+xticks[1])*.5, ymax*1.08, \n",
    "        'p = {:.3f}'.format(pval), ha='center', va='bottom', color='#222222')\n",
    "    \n",
    "fig.suptitle('Permutation Test (bouts <= 1 minute)')\n",
    "fig.tight_layout(rect=[0, 0, 1.0, 0.9])\n",
    "fig.savefig('C:/Users/acorver/Desktop/paper-figures/Fig_pauses_canonical_vs_noncanonical.pdf')"
   ]
  },
  {
   "cell_type": "markdown",
   "metadata": {},
   "source": [
    "### Compute pauses statistics"
   ]
  },
  {
   "cell_type": "code",
   "execution_count": 16,
   "metadata": {},
   "outputs": [],
   "source": [
    "# Stationary state is determined by:\n",
    "#   - Stationary state detected by anterior\n",
    "#   - Stationary state detected by posterior\n",
    "#   - Frame being left out of embedding computation due to lack of movement\n",
    "# These timepoint indices are first merged together, than the usual counting is done as above for leg sweeps."
   ]
  },
  {
   "cell_type": "code",
   "execution_count": 19,
   "metadata": {},
   "outputs": [
    {
     "name": "stdout",
     "output_type": "stream",
     "text": [
      "Pause (>=1 s) Occurrence for Stage protoweb: 258.095 +- 183.460 (events)\n",
      "Pause (>=1 s) Occurrence for Stage protoweb: 0.863 +- 0.582 (events/cm)\n",
      "Pause (>=1 s) Occurrence for Stage protoweb: 0.034 +- 0.023 (events/s) \n",
      "Percent Time Paused for Stage protoweb: 84.761 +- 20.337 (events/s) \n",
      "Pause (>=1 s) Occurrence for Stage radii: 360.810 +- 280.459 (events)\n",
      "Pause (>=1 s) Occurrence for Stage radii: 0.728 +- 0.420 (events/cm)\n",
      "Pause (>=1 s) Occurrence for Stage radii: 0.055 +- 0.016 (events/s) \n",
      "Percent Time Paused for Stage radii: 61.917 +- 31.916 (events/s) \n",
      "Pause (>=1 s) Occurrence for Stage spiral_aux: 19.700 +- 11.637 (events)\n",
      "Pause (>=1 s) Occurrence for Stage spiral_aux: 0.262 +- 0.137 (events/cm)\n",
      "Pause (>=1 s) Occurrence for Stage spiral_aux: 0.051 +- 0.027 (events/s) \n",
      "Percent Time Paused for Stage spiral_aux: 0.551 +- 1.499 (events/s) \n",
      "Pause (>=1 s) Occurrence for Stage spiral_cap: 311.810 +- 159.060 (events)\n",
      "Pause (>=1 s) Occurrence for Stage spiral_cap: 1.075 +- 0.438 (events/cm)\n",
      "Pause (>=1 s) Occurrence for Stage spiral_cap: 0.068 +- 0.022 (events/s) \n",
      "Percent Time Paused for Stage spiral_cap: 6.497 +- 14.697 (events/s) \n",
      "Pause (>=1 s) Occurrence for Stage stabilimentum: 32.333 +- 19.901 (events)\n",
      "Pause (>=1 s) Occurrence for Stage stabilimentum: 8.361 +- 3.627 (events/cm)\n",
      "Pause (>=1 s) Occurrence for Stage stabilimentum: 0.047 +- 0.021 (events/s) \n",
      "Percent Time Paused for Stage stabilimentum: 30.112 +- 21.919 (events/s) \n"
     ]
    }
   ],
   "source": [
    "dataPauses = []\n",
    "dataPausesBetweenStages = []\n",
    "for stage in Hs[ANTERIOR][0].keys():\n",
    "    isStationaryAll = []\n",
    "    for recID in range(len(Hs[ANTERIOR])):\n",
    "        # Load the index of stationary frames\n",
    "        _isStationary = np.logical_not(np.load(recordingInfo[1][recID]['fname'].replace(\n",
    "            '_dlc_position_orientation.npy', '_dlc_abs_filt_interp_mvmt.idx.npy')))\n",
    "        # Load the index of embedded frames\n",
    "        _isEmbedded = np.logical_not(np.load(recordingInfo[1][recID]['fname'].replace(\n",
    "            '_dlc_position_orientation.npy', '_dlc_abs_filt_interp_mvmt_noborder.idx.npy')))\n",
    "        # Canonical?\n",
    "        _iscanonical = max([len(recordingInfo[1][recID]['stagesOrg'][st]) for \\\n",
    "            st in recordingInfo[1][recID]['stagesOrg']]) == 1\n",
    "        # Subset this index by what stage we're looking at\n",
    "        for stagerep, (t0, t1) in enumerate(recordingInfo[1][recID]['stagesOrg'][stage]):\n",
    "            idx = np.full(_isEmbedded.shape[0], False, dtype=np.bool)\n",
    "            idx[t0:t1] = True\n",
    "            isStationary = _isStationary[idx]\n",
    "            isEmbedded = _isEmbedded[idx]\n",
    "            # Determine what frames are stationary according to embedding\n",
    "            isStationaryInEmbedding = np.isin(Hs[ANTERIOR][recID][stage], clusterLabels[ANTERIOR]['stationary']) | \\\n",
    "                np.isin(Hs[ANTERIOR][recID][stage], clusterLabels[POSTERIOR]['stationary'])\n",
    "            # Incorporate these embedding-stationary frames into the larger is-stationary index\n",
    "            s = min(np.sum(~isEmbedded), isStationaryInEmbedding.size)\n",
    "            isStationary[np.argwhere(~isEmbedded)[:s,0]] = isStationaryInEmbedding[:s]\n",
    "            # Set minimum pause duration\n",
    "            isStationary2 = ndimage.binary_dilation(ndimage.binary_erosion(\n",
    "                isStationary, iterations=75), iterations=75)\n",
    "            # Now extrapolate to AVI\n",
    "            _idxStageAVI = np.argwhere(idxsAVI[recID])[idx, 0]\n",
    "            isStationaryWithAVI = np.full(_idxStageAVI.max()+1 if _idxStageAVI.size > 0 else 0, True, dtype=np.bool)\n",
    "            if isStationaryWithAVI.size > 0:\n",
    "                isStationaryWithAVI[_idxStageAVI] = isStationary\n",
    "                isStationaryWithAVI = isStationaryWithAVI[_idxStageAVI.min():]\n",
    "            # Now extrapolate to AVI\n",
    "            isStationaryWithAVI2 = np.full(_idxStageAVI.max()+1 if _idxStageAVI.size > 0 else 0, True, dtype=np.bool)\n",
    "            if isStationaryWithAVI2.size > 0:\n",
    "                isStationaryWithAVI2[_idxStageAVI] = isStationary2\n",
    "                isStationaryWithAVI2 = isStationaryWithAVI2[_idxStageAVI.min():]\n",
    "            # Now subset to 10% - 90% of distance traveled to exclude pauses at boundary\n",
    "            # Measure cumulative distance traveled...\n",
    "            fnameXY = glob.glob(os.path.abspath(os.path.join(os.path.dirname(fnames[0][recID]), \n",
    "                '../croprot/*_dlc_position_orientation.npy')))[0]\n",
    "            arrXY = np.load(fnameXY)[idx, 0:2]\n",
    "\n",
    "            vels = pd.DataFrame(np.linalg.norm(arrXY - pd.DataFrame(\n",
    "                arrXY).shift(-50).values, axis=1)).fillna(method='ffill').fillna(method='bfill').values[:,0]\n",
    "            vels[vels < 5] = 0\n",
    "\n",
    "            _s0 = np.argwhere(np.cumsum(vels) >= 0.10 * np.max(np.cumsum(vels)))[0,0]\n",
    "            _s1 = np.argwhere(np.cumsum(vels) <= 0.90 * np.max(np.cumsum(vels)))[-1,0]\n",
    "\n",
    "            s0 = (_idxStageAVI - _idxStageAVI.min())[_s0]\n",
    "            s1 = (_idxStageAVI - _idxStageAVI.min())[_s1]\n",
    "            \n",
    "            # Store boundary data\n",
    "            dataPausesBetweenStages.append( (stage, recID, stagerep, t0, t1, 'post', \n",
    "                                             isStationaryWithAVI[s1:], isStationaryWithAVI2[s1:], _iscanonical) )\n",
    "            dataPausesBetweenStages.append( (stage, recID, stagerep, t0, t1, 'pre', \n",
    "                                             isStationaryWithAVI[:s0], isStationaryWithAVI2[:s0], _iscanonical) ) \n",
    "            \n",
    "            # Store in overall list\n",
    "            isStationaryAll.append((isStationaryWithAVI[s0:s1], isStationaryWithAVI2[s0:s1], recID, stagerep))\n",
    "    \n",
    "    isStationaryAllMergedreps = [np.hstack([np.zeros(0, dtype=np.bool)] + [y[0] for y in isStationaryAll if y[2] == recID]) for \\\n",
    "                                 recID in range(len(fnames[0]))]\n",
    "    numEvents = np.array([countEvents(x, [True,], 50) for x in isStationaryAllMergedreps])\n",
    "    distances = np.array(stageDistances[stage])\n",
    "    durations = np.array(stageDurations[stage])\n",
    "    eventsPerCM = numEvents[distances > 0] / distances[distances > 0]\n",
    "    eventsPerS  = numEvents[distances > 0] / durations[distances > 0]\n",
    "    #percentTime = 100 * np.array([np.sum(x[1]) * 0.02 for x in isStationaryAll]) / durations\n",
    "    percentTime = 100 * np.array([np.nanmean(x[1]) for x in isStationaryAll])\n",
    "    \n",
    "    for pt, stagerep, recID in zip(percentTime, [x[3] for x in isStationaryAll], [x[2] for x in isStationaryAll]):\n",
    "        dataPauses.append((stage, stagerep, pt, recID))\n",
    "    \n",
    "    print('Pause (>=1 s) Occurrence for Stage {}: {:.3f} +- {:.3f} (events)'.format(\n",
    "        stage, np.nanmean(numEvents[distances > 0]), np.nanstd(numEvents[distances > 0])))\n",
    "    \n",
    "    print('Pause (>=1 s) Occurrence for Stage {}: {:.3f} +- {:.3f} (events/cm)'.format(\n",
    "        stage, np.nanmean(eventsPerCM), np.nanstd(eventsPerCM)))\n",
    "    \n",
    "    print('Pause (>=1 s) Occurrence for Stage {}: {:.3f} +- {:.3f} (events/s) '.format(\n",
    "        stage, np.nanmean(eventsPerS), np.nanstd(eventsPerS)))\n",
    "    \n",
    "    print('Percent Time Paused for Stage {}: {:.3f} +- {:.3f} (events/s) '.format(\n",
    "        stage, np.nanmean(percentTime), np.nanstd(percentTime)))"
   ]
  },
  {
   "cell_type": "code",
   "execution_count": 20,
   "metadata": {},
   "outputs": [],
   "source": [
    "tblPauses = pd.DataFrame(dataPauses, columns=['stage', 'stagerep', 'pauses', 'recid'])"
   ]
  },
  {
   "cell_type": "code",
   "execution_count": 54,
   "metadata": {},
   "outputs": [
    {
     "data": {
      "text/plain": [
       "['protoweb', 'radii', 'spiral_aux', 'spiral_cap']"
      ]
     },
     "execution_count": 54,
     "metadata": {},
     "output_type": "execute_result"
    }
   ],
   "source": [
    "STAGES"
   ]
  },
  {
   "cell_type": "code",
   "execution_count": 1401,
   "metadata": {},
   "outputs": [],
   "source": [
    "# For each stage gap, for every recording, gather the pairs and compute percentage paused\n",
    "dataPausesWithGaps = []\n",
    "for stageGap in STAGES:\n",
    "    for recID in range(len(fnames[0])):\n",
    "        for stagerep in range(4):\n",
    "            try:\n",
    "                xPre = [x for x in dataPausesBetweenStages if x[0]==stageGap and \\\n",
    "                        x[1] == recID and x[5]=='post' and x[2] == stagerep][0]\n",
    "                xPost= [x for x in dataPausesBetweenStages if \n",
    "                        x[1] == recID and x[5]=='pre' and x[3] == xPre[4]][0]\n",
    "                pausesGap = np.hstack((xPre[7], xPost[7]))\n",
    "                pause = np.nansum(pausesGap) / (50 * 3600)\n",
    "                iscanonical = xPre[8]\n",
    "                #pause = 100 * np.nanmean(pausesGap)\n",
    "                dataPausesWithGaps.append((stageGap, stagerep, pause, recID))\n",
    "            except:\n",
    "                pass\n",
    "tblPausesWithGaps = pd.DataFrame(dataPausesWithGaps, columns=['stage', 'stagerep', 'pauses', 'recid', 'canonical'])"
   ]
  },
  {
   "cell_type": "code",
   "execution_count": 66,
   "metadata": {},
   "outputs": [],
   "source": [
    "# For each stage gap, for every recording, gather the pairs and compute percentage paused\n",
    "dataPausesWithGaps = []\n",
    "for stageGap in [\n",
    "        'protoweb-radii',\n",
    "        'radii-spiral_aux',\n",
    "        'spiral_aux-spiral_cap',\n",
    "        'spiral_cap-stabilimentum',\n",
    "        'spiral_cap-radii']:\n",
    "    for recID in range(len(fnames[0])):\n",
    "        for stagerep in range(4):\n",
    "            try:\n",
    "                xPre = [x for x in dataPausesBetweenStages if x[0]==stageGap.split('-')[0] and \\\n",
    "                        x[1] == recID and x[5]=='post' and x[2] == stagerep][0]\n",
    "                xPost= [x for x in dataPausesBetweenStages if x[0]==stageGap.split('-')[1] and \\\n",
    "                        x[1] == recID and x[5]=='pre' and x[3] == xPre[4]][0]\n",
    "                pausesGap = np.hstack((xPre[7], xPost[7]))\n",
    "                \n",
    "                #pause = np.nansum(pausesGap) / (50 * 3600)\n",
    "                pause = np.sum([x for x in countEventDurations(pausesGap, [True,], \n",
    "                    minFrameGap = 50, minDuration = 12) if x <= 3000]) / (50 * 3600)\n",
    "                \n",
    "                iscanonical = xPre[8]\n",
    "                #pause = 100 * np.nanmean(pausesGap)\n",
    "                dataPausesWithGaps.append((stageGap, stagerep, pause, recID, iscanonical))\n",
    "            except:\n",
    "                pass\n",
    "tblPausesWithGaps = pd.DataFrame(dataPausesWithGaps, columns=['stage', 'stagerep', 'pauses', 'recid', 'canonical'])"
   ]
  },
  {
   "cell_type": "code",
   "execution_count": 137,
   "metadata": {},
   "outputs": [
    {
     "data": {
      "text/plain": [
       "['protoweb', 'radii', 'spiral_aux', 'spiral_cap']"
      ]
     },
     "execution_count": 137,
     "metadata": {},
     "output_type": "execute_result"
    }
   ],
   "source": [
    "STAGES = ['protoweb', 'radii', 'spiral_aux', 'spiral_cap'] # dataPauses.stage.unique()\n",
    "STAGES"
   ]
  },
  {
   "cell_type": "code",
   "execution_count": 147,
   "metadata": {},
   "outputs": [
    {
     "data": {
      "image/png": "[encoded data removed]",
      "text/plain": [
       "<Figure size 432x288 with 2 Axes>"
      ]
     },
     "metadata": {
      "needs_background": "light"
     },
     "output_type": "display_data"
    }
   ],
   "source": [
    "fig, axs = plt.subplots(1, 2, figsize=(6, 4))\n",
    "\n",
    "# ==========================================================================================\n",
    "# Non-Gap pauses\n",
    "# ==========================================================================================\n",
    "\n",
    "ax = axs[0]\n",
    "d = tblPauses[(tblPauses.stage != 'stabilimentum')&(~pd.isnull(tblPauses.pauses))]\n",
    "#d = tblPauses[(tblPauses.stage != 'stabilimentum')&(tblPauses.pauses != 0)&(~pd.isnull(tblPauses.pauses))]\n",
    "\n",
    "pairs = list(itertools.combinations(STAGES, 2))\n",
    "pvals = [mannwhitneyu(x=d.pauses[d.stage==p[0]], \n",
    "                      y=d.pauses[d.stage==p[1]]).pvalue for p in pairs]\n",
    "pvals = multipletests(pvals, alpha=0.05, method='bonferroni')[1]\n",
    "pairsSignificant = [(p, pv) for p, pv in zip(pairs, pvals) if pv < 0.05]\n",
    "\n",
    "for istage, stage in enumerate(STAGES):\n",
    "    y = d.pauses[d.stage==stage]\n",
    "    x0 = np.ones(y.size) * istage + (-0.5 + np.random.random(size=y.size)) * .2\n",
    "    ax.scatter(x0, y, color='#555555', s=5, zorder=20)\n",
    "    bp = ax.boxplot(y, positions=(istage,), whis=(0,100), widths=0.5,\n",
    "               notch=True, bootstrap=10000, zorder=10, patch_artist=True)\n",
    "    for element in ['whiskers', 'fliers', 'means', 'medians', 'caps']:\n",
    "        plt.setp(bp[element], color='#222222')\n",
    "    plt.setp(bp['boxes'], facecolor='#eeeeee')\n",
    "    \n",
    "ax.set_xticklabels([{\n",
    "    'protoweb': 'Protoweb',\n",
    "    'radii': 'Radii',\n",
    "    'spiral_aux': 'Auxiliary\\nSpiral',\n",
    "    'spiral_cap': 'Capture\\nSpiral'\n",
    "}[x] for x in STAGES], rotation=90)\n",
    "    \n",
    "[ax.spines[x].set_visible(False) for x in ['top', 'right']]\n",
    "\n",
    "ax.set_ylabel('Pauses (% of Time)')\n",
    "\n",
    "ax.set_ylim(0, 150)\n",
    "ax.set_yticks([0, 20, 40, 60, 80, 100])\n",
    "\n",
    "lvls = {\n",
    "    ('protoweb', 'radii'): 147,\n",
    "    ('protoweb', 'spiral_aux'): 137,\n",
    "    ('protoweb', 'spiral_cap'): 127,\n",
    "    ('radii', 'spiral_aux'): 117,\n",
    "    ('radii', 'spiral_cap'): 107,\n",
    "    ('spiral_aux', 'spiral_cap'): 100\n",
    "}\n",
    "for p, pv in pairsSignificant:\n",
    "    i0 = STAGES.index(p[0])\n",
    "    i1 = STAGES.index(p[1])\n",
    "    lvl = lvls[p]\n",
    "    ax.plot([i0, i0, i1, i1], [lvl-2, lvl, lvl, lvl-2], \n",
    "            color='#444444', linewidth=1.2)\n",
    "    ax.text((i0 + i1) * 0.5, lvl * 1.01, \n",
    "        'p = {:.2e}'.format(pv), ha='center', va='bottom', color='#222222')\n",
    "    \n",
    "# ==========================================================================================\n",
    "# Gap pauses\n",
    "# ==========================================================================================\n",
    "\n",
    "ax = axs[1]\n",
    "d = tblPausesWithGaps[(tblPausesWithGaps.stage != 'stabilimentum')&(tblPausesWithGaps.pauses != 0)&(~pd.isnull(tblPausesWithGaps.pauses))]\n",
    "\n",
    "stagesGaps = tblPausesWithGaps.stage.unique()\n",
    "for istage, stage in enumerate(stagesGaps):\n",
    "    y = d.pauses[d.stage==stage]\n",
    "    x0 = np.ones(y.size) * istage + (-0.5 + np.random.random(size=y.size)) * .2\n",
    "    ax.scatter(x0, y, color='#555555', s=5, zorder=20)\n",
    "    bp = ax.boxplot(y, positions=(istage,), whis=(0,100), widths=0.5,\n",
    "               notch=True, bootstrap=10000, zorder=10, patch_artist=True)\n",
    "    for element in ['whiskers', 'fliers', 'means', 'medians', 'caps']:\n",
    "        plt.setp(bp[element], color='#222222')\n",
    "    plt.setp(bp['boxes'], facecolor='#eeeeee')\n",
    "    \n",
    "ax.set_xticklabels([{\n",
    "    'protoweb-radii': 'Protoweb->\\nRadii',\n",
    "    'radii-spiral_aux': 'Radii->\\nAux. Spiral',\n",
    "    'spiral_aux-spiral_cap': 'Aux. Spiral->\\nCap. Spiral',\n",
    "    'spiral_cap-stabilimentum': 'Cap. Spiral->\\nStabilimentum',\n",
    "    'spiral_cap-radii': 'Cap. Spiral->\\nRadii'\n",
    "}[x] for x in stagesGaps], rotation=90)\n",
    "\n",
    "ax.set_yscale('log')\n",
    "    \n",
    "[ax.spines[x].set_visible(False) for x in ['top', 'right']]\n",
    "\n",
    "\n",
    "#ax.set_yticklabels(['10 seconds', '1 minute', '10 minutes', '1 hour', '10 hours'])\n",
    "#ax.set_yticks([10/3600.0, 1/60.0, 1/6.0, 1, 10])\n",
    "#ax.set_ylabel('Pause Duration Following Stage')\n",
    "\n",
    "ax.set_yticklabels(['0.01', '0.1', '1', '10'])\n",
    "ax.set_yticks([0.01, 0.1, 1, 10])\n",
    "ax.set_ylabel('Pause Duration Following Stage (Hours)')\n",
    "\n",
    "fig.tight_layout()\n",
    "fig.savefig('C:/Users/acorver/Desktop/paper-figures/Fig_3e-pt2_withavis.pdf')"
   ]
  }
 ],
 "metadata": {
  "kernelspec": {
   "display_name": "Python 3",
   "language": "python",
   "name": "python3"
  },
  "language_info": {
   "codemirror_mode": {
    "name": "ipython",
    "version": 3
   },
   "file_extension": ".py",
   "mimetype": "text/x-python",
   "name": "python",
   "nbconvert_exporter": "python",
   "pygments_lexer": "ipython3",
   "version": "3.9.5"
  }
 },
 "nbformat": 4,
 "nbformat_minor": 2
}
