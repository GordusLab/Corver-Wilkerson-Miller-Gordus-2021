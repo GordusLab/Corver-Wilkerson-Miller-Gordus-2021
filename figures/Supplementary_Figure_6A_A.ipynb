{
 "cells": [
  {
   "cell_type": "code",
   "execution_count": 1,
   "metadata": {},
   "outputs": [],
   "source": [
    "import numpy as np, matplotlib.pyplot as plt, matplotlib.patches as patches, matplotlib as mpl"
   ]
  },
  {
   "cell_type": "code",
   "execution_count": 2,
   "metadata": {},
   "outputs": [],
   "source": [
    "transMtx = np.zeros((12, 12))\n",
    "\n",
    "for i in range(3):\n",
    "    # Transitions within regime\n",
    "    transMtx[(i*4+1):(i*4+4), (i*4+1):(i*4+4)] = 0.2 + 0.8 * np.random.random(size=(3, 3))\n",
    "    # Transition from parent to within regime\n",
    "    for j in range(3):\n",
    "        transMtx[i*4, i*4+1+j] = 0.2 + 0.8 * np.random.random()\n",
    "    # Transition from movement to any other parent state except its own regime\n",
    "    for m in range(3):\n",
    "        for p in range(3):\n",
    "            if p != i:\n",
    "                transMtx[i*4 + 1 + m, p*4] = 0.2 + 0.8 * np.random.random()\n",
    "    \n",
    "transMtx[np.identity(transMtx.shape[0]).astype(np.bool)] = 0\n",
    "\n",
    "transMtx[transMtx == 0] = np.nan"
   ]
  },
  {
   "cell_type": "code",
   "execution_count": null,
   "metadata": {},
   "outputs": [],
   "source": [
    "fig, ax = plt.subplots(1, 1, figsize=(4, 4))\n",
    "\n",
    "mpl.rc('text', usetex=True)\n",
    "mpl.rc('axes', linewidth=2)\n",
    "mpl.rc('font', weight='bold')    \n",
    "mpl.rcParams['text.latex.preamble'] = [r'\\usepackage{sfmath} \\boldmath']\n",
    "\n",
    "ax.imshow(transMtx, cmap='gray_r', vmin=0, vmax=1)\n",
    "\n",
    "for i in range(3):\n",
    "    ax.add_patch(patches.Rectangle((0.5 + i*4, 0.5 + i*4), 3, 3, linewidth=3, edgecolor='r', facecolor='none'))\n",
    "\n",
    "for i in range(3):\n",
    "    for j in range(3):\n",
    "        ax.add_patch(patches.Rectangle((i*4+0.5, i*4-0.5), 3, 1, linewidth=3, edgecolor='blue', facecolor='none'))\n",
    "\n",
    "for i in range(3):\n",
    "    for j in range(3):\n",
    "        for p in range(3):\n",
    "            if p != i:\n",
    "                ax.add_patch(patches.Rectangle((p*4-0.5, i*4+0.5), 1, 3, \n",
    "                                               linewidth=3, edgecolor='purple', facecolor='none'))\n",
    "\n",
    "ax.set_xlim(-1, 12)\n",
    "ax.set_ylim(12, -1)\n",
    "\n",
    "TICKLABELS = [\n",
    "    r'\\textbf{Regime 1}',\n",
    "    'Motif A',\n",
    "    'Motif B',\n",
    "    'Motif C',\n",
    "    r'\\textbf{Regime 2}',\n",
    "    'Motif A',\n",
    "    'Motif B',\n",
    "    'Motif C',\n",
    "    r'\\textbf{Regime 3}',\n",
    "    'Motif A',\n",
    "    'Motif B',\n",
    "    'Motif C',\n",
    "]\n",
    "\n",
    "ax.set_yticks(np.arange(0,12))\n",
    "ax.set_yticklabels(TICKLABELS)\n",
    "\n",
    "ax.set_xticks(np.arange(0,12))\n",
    "ax.set_xticklabels(TICKLABELS, rotation=90)\n",
    "\n",
    "for k in range(12):\n",
    "    ax.plot([-1, 12], [k, k], color='gray', zorder=-10, linewidth=1, linestyle='--')\n",
    "    ax.plot([k, k], [-1, 12], color='gray', zorder=-10, linewidth=1, linestyle='--')\n",
    "\n",
    "ax.spines['top'].set_visible(False)\n",
    "ax.spines['right'].set_visible(False)\n",
    "ax.spines['bottom'].set_visible(False)\n",
    "ax.spines['left'].set_visible(False)\n",
    "\n",
    "ax.set_xlabel(r'\\textbf{Destination State}')\n",
    "ax.set_ylabel(r'\\textbf{Source State}')\n",
    "\n",
    "fig.tight_layout()\n",
    "fig.savefig('C:/Users/acorver/Desktop/paper-figures/fig_suppl_7.pdf')"
   ]
  }
 ],
 "metadata": {
  "kernelspec": {
   "display_name": "Python 3",
   "language": "python",
   "name": "python3"
  },
  "language_info": {
   "codemirror_mode": {
    "name": "ipython",
    "version": 3
   },
   "file_extension": ".py",
   "mimetype": "text/x-python",
   "name": "python",
   "nbconvert_exporter": "python",
   "pygments_lexer": "ipython3",
   "version": "3.9.5"
  }
 },
 "nbformat": 4,
 "nbformat_minor": 2
}
